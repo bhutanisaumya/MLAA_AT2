{
  "cells": [
    {
      "cell_type": "markdown",
      "metadata": {
        "id": "wFHTEl8RbPgZ"
      },
      "source": [
        "# Binary classification with Random Forest\n",
        "\n",
        "In this experiment, I aim to determine how well a Random Forest can predict the target feature.\n",
        "\n"
      ]
    },
    {
      "cell_type": "markdown",
      "metadata": {
        "id": "D4Vp-5ueeJbi"
      },
      "source": [
        "## Import packages and load the dataset"
      ]
    },
    {
      "cell_type": "code",
      "execution_count": null,
      "metadata": {
        "id": "jnA-1oxJeZGR"
      },
      "outputs": [],
      "source": [
        "#import necessary libraries\n",
        "import numpy as np\n",
        "import pandas as pd\n",
        "import seaborn as sns\n",
        "import altair as alt\n",
        "import matplotlib.pyplot as plt\n",
        "\n",
        "import warnings\n",
        "warnings.filterwarnings('ignore') \n"
      ]
    },
    {
      "cell_type": "markdown",
      "metadata": {
        "id": "SprnO3O1fpiY"
      },
      "source": [
        "I have created a public reprository on my github and uploaded the dataset"
      ]
    },
    {
      "cell_type": "code",
      "execution_count": null,
      "metadata": {
        "id": "5d_mzumiMz9E"
      },
      "outputs": [],
      "source": [
        "url = 'https://raw.githubusercontent.com/bhutanisaumya/MLAA_AT2/main/repurchase_training.csv'\n",
        "\n",
        "df = pd.read_csv(url)\n"
      ]
    },
    {
      "cell_type": "code",
      "execution_count": null,
      "metadata": {
        "id": "pRhbLILWZ9x0"
      },
      "outputs": [],
      "source": [
        "#the column Id as the first column\n",
        "df.set_index('ID', inplace = True)\n"
      ]
    },
    {
      "cell_type": "markdown",
      "metadata": {
        "id": "kr9vTE6-lYnJ"
      },
      "source": [
        "## Data Exploration\n",
        "I will be performing data explorations on datasets."
      ]
    },
    {
      "cell_type": "code",
      "execution_count": null,
      "metadata": {
        "colab": {
          "base_uri": "https://localhost:8080/",
          "height": 319
        },
        "id": "MTVu6RC9lfDE",
        "outputId": "bab2212f-a4cd-4048-e25f-4b326b7ab63f"
      },
      "outputs": [
        {
          "data": {
            "text/html": [
              "\n",
              "  <div id=\"df-e4bdd697-99d9-4415-aa72-28bbb9fcbc5c\">\n",
              "    <div class=\"colab-df-container\">\n",
              "      <div>\n",
              "<style scoped>\n",
              "    .dataframe tbody tr th:only-of-type {\n",
              "        vertical-align: middle;\n",
              "    }\n",
              "\n",
              "    .dataframe tbody tr th {\n",
              "        vertical-align: top;\n",
              "    }\n",
              "\n",
              "    .dataframe thead th {\n",
              "        text-align: right;\n",
              "    }\n",
              "</style>\n",
              "<table border=\"1\" class=\"dataframe\">\n",
              "  <thead>\n",
              "    <tr style=\"text-align: right;\">\n",
              "      <th></th>\n",
              "      <th>Target</th>\n",
              "      <th>age_band</th>\n",
              "      <th>gender</th>\n",
              "      <th>car_model</th>\n",
              "      <th>car_segment</th>\n",
              "      <th>age_of_vehicle_years</th>\n",
              "      <th>sched_serv_warr</th>\n",
              "      <th>non_sched_serv_warr</th>\n",
              "      <th>sched_serv_paid</th>\n",
              "      <th>non_sched_serv_paid</th>\n",
              "      <th>total_paid_services</th>\n",
              "      <th>total_services</th>\n",
              "      <th>mth_since_last_serv</th>\n",
              "      <th>annualised_mileage</th>\n",
              "      <th>num_dealers_visited</th>\n",
              "      <th>num_serv_dealer_purchased</th>\n",
              "    </tr>\n",
              "    <tr>\n",
              "      <th>ID</th>\n",
              "      <th></th>\n",
              "      <th></th>\n",
              "      <th></th>\n",
              "      <th></th>\n",
              "      <th></th>\n",
              "      <th></th>\n",
              "      <th></th>\n",
              "      <th></th>\n",
              "      <th></th>\n",
              "      <th></th>\n",
              "      <th></th>\n",
              "      <th></th>\n",
              "      <th></th>\n",
              "      <th></th>\n",
              "      <th></th>\n",
              "      <th></th>\n",
              "    </tr>\n",
              "  </thead>\n",
              "  <tbody>\n",
              "    <tr>\n",
              "      <th>1</th>\n",
              "      <td>0</td>\n",
              "      <td>3. 35 to 44</td>\n",
              "      <td>Male</td>\n",
              "      <td>model_1</td>\n",
              "      <td>LCV</td>\n",
              "      <td>9</td>\n",
              "      <td>2</td>\n",
              "      <td>10</td>\n",
              "      <td>3</td>\n",
              "      <td>7</td>\n",
              "      <td>5</td>\n",
              "      <td>6</td>\n",
              "      <td>9</td>\n",
              "      <td>8</td>\n",
              "      <td>10</td>\n",
              "      <td>4</td>\n",
              "    </tr>\n",
              "    <tr>\n",
              "      <th>2</th>\n",
              "      <td>0</td>\n",
              "      <td>NaN</td>\n",
              "      <td>NaN</td>\n",
              "      <td>model_2</td>\n",
              "      <td>Small/Medium</td>\n",
              "      <td>6</td>\n",
              "      <td>10</td>\n",
              "      <td>3</td>\n",
              "      <td>10</td>\n",
              "      <td>4</td>\n",
              "      <td>9</td>\n",
              "      <td>10</td>\n",
              "      <td>6</td>\n",
              "      <td>10</td>\n",
              "      <td>7</td>\n",
              "      <td>10</td>\n",
              "    </tr>\n",
              "    <tr>\n",
              "      <th>3</th>\n",
              "      <td>0</td>\n",
              "      <td>NaN</td>\n",
              "      <td>Male</td>\n",
              "      <td>model_3</td>\n",
              "      <td>Large/SUV</td>\n",
              "      <td>9</td>\n",
              "      <td>10</td>\n",
              "      <td>9</td>\n",
              "      <td>10</td>\n",
              "      <td>9</td>\n",
              "      <td>10</td>\n",
              "      <td>10</td>\n",
              "      <td>7</td>\n",
              "      <td>10</td>\n",
              "      <td>6</td>\n",
              "      <td>10</td>\n",
              "    </tr>\n",
              "    <tr>\n",
              "      <th>5</th>\n",
              "      <td>0</td>\n",
              "      <td>NaN</td>\n",
              "      <td>NaN</td>\n",
              "      <td>model_3</td>\n",
              "      <td>Large/SUV</td>\n",
              "      <td>5</td>\n",
              "      <td>8</td>\n",
              "      <td>5</td>\n",
              "      <td>8</td>\n",
              "      <td>4</td>\n",
              "      <td>5</td>\n",
              "      <td>6</td>\n",
              "      <td>4</td>\n",
              "      <td>10</td>\n",
              "      <td>9</td>\n",
              "      <td>7</td>\n",
              "    </tr>\n",
              "    <tr>\n",
              "      <th>6</th>\n",
              "      <td>0</td>\n",
              "      <td>NaN</td>\n",
              "      <td>Female</td>\n",
              "      <td>model_2</td>\n",
              "      <td>Small/Medium</td>\n",
              "      <td>8</td>\n",
              "      <td>9</td>\n",
              "      <td>4</td>\n",
              "      <td>10</td>\n",
              "      <td>7</td>\n",
              "      <td>9</td>\n",
              "      <td>8</td>\n",
              "      <td>5</td>\n",
              "      <td>4</td>\n",
              "      <td>4</td>\n",
              "      <td>9</td>\n",
              "    </tr>\n",
              "  </tbody>\n",
              "</table>\n",
              "</div>\n",
              "      <button class=\"colab-df-convert\" onclick=\"convertToInteractive('df-e4bdd697-99d9-4415-aa72-28bbb9fcbc5c')\"\n",
              "              title=\"Convert this dataframe to an interactive table.\"\n",
              "              style=\"display:none;\">\n",
              "        \n",
              "  <svg xmlns=\"http://www.w3.org/2000/svg\" height=\"24px\"viewBox=\"0 0 24 24\"\n",
              "       width=\"24px\">\n",
              "    <path d=\"M0 0h24v24H0V0z\" fill=\"none\"/>\n",
              "    <path d=\"M18.56 5.44l.94 2.06.94-2.06 2.06-.94-2.06-.94-.94-2.06-.94 2.06-2.06.94zm-11 1L8.5 8.5l.94-2.06 2.06-.94-2.06-.94L8.5 2.5l-.94 2.06-2.06.94zm10 10l.94 2.06.94-2.06 2.06-.94-2.06-.94-.94-2.06-.94 2.06-2.06.94z\"/><path d=\"M17.41 7.96l-1.37-1.37c-.4-.4-.92-.59-1.43-.59-.52 0-1.04.2-1.43.59L10.3 9.45l-7.72 7.72c-.78.78-.78 2.05 0 2.83L4 21.41c.39.39.9.59 1.41.59.51 0 1.02-.2 1.41-.59l7.78-7.78 2.81-2.81c.8-.78.8-2.07 0-2.86zM5.41 20L4 18.59l7.72-7.72 1.47 1.35L5.41 20z\"/>\n",
              "  </svg>\n",
              "      </button>\n",
              "      \n",
              "  <style>\n",
              "    .colab-df-container {\n",
              "      display:flex;\n",
              "      flex-wrap:wrap;\n",
              "      gap: 12px;\n",
              "    }\n",
              "\n",
              "    .colab-df-convert {\n",
              "      background-color: #E8F0FE;\n",
              "      border: none;\n",
              "      border-radius: 50%;\n",
              "      cursor: pointer;\n",
              "      display: none;\n",
              "      fill: #1967D2;\n",
              "      height: 32px;\n",
              "      padding: 0 0 0 0;\n",
              "      width: 32px;\n",
              "    }\n",
              "\n",
              "    .colab-df-convert:hover {\n",
              "      background-color: #E2EBFA;\n",
              "      box-shadow: 0px 1px 2px rgba(60, 64, 67, 0.3), 0px 1px 3px 1px rgba(60, 64, 67, 0.15);\n",
              "      fill: #174EA6;\n",
              "    }\n",
              "\n",
              "    [theme=dark] .colab-df-convert {\n",
              "      background-color: #3B4455;\n",
              "      fill: #D2E3FC;\n",
              "    }\n",
              "\n",
              "    [theme=dark] .colab-df-convert:hover {\n",
              "      background-color: #434B5C;\n",
              "      box-shadow: 0px 1px 3px 1px rgba(0, 0, 0, 0.15);\n",
              "      filter: drop-shadow(0px 1px 2px rgba(0, 0, 0, 0.3));\n",
              "      fill: #FFFFFF;\n",
              "    }\n",
              "  </style>\n",
              "\n",
              "      <script>\n",
              "        const buttonEl =\n",
              "          document.querySelector('#df-e4bdd697-99d9-4415-aa72-28bbb9fcbc5c button.colab-df-convert');\n",
              "        buttonEl.style.display =\n",
              "          google.colab.kernel.accessAllowed ? 'block' : 'none';\n",
              "\n",
              "        async function convertToInteractive(key) {\n",
              "          const element = document.querySelector('#df-e4bdd697-99d9-4415-aa72-28bbb9fcbc5c');\n",
              "          const dataTable =\n",
              "            await google.colab.kernel.invokeFunction('convertToInteractive',\n",
              "                                                     [key], {});\n",
              "          if (!dataTable) return;\n",
              "\n",
              "          const docLinkHtml = 'Like what you see? Visit the ' +\n",
              "            '<a target=\"_blank\" href=https://colab.research.google.com/notebooks/data_table.ipynb>data table notebook</a>'\n",
              "            + ' to learn more about interactive tables.';\n",
              "          element.innerHTML = '';\n",
              "          dataTable['output_type'] = 'display_data';\n",
              "          await google.colab.output.renderOutput(dataTable, element);\n",
              "          const docLink = document.createElement('div');\n",
              "          docLink.innerHTML = docLinkHtml;\n",
              "          element.appendChild(docLink);\n",
              "        }\n",
              "      </script>\n",
              "    </div>\n",
              "  </div>\n",
              "  "
            ],
            "text/plain": [
              "    Target     age_band  gender car_model   car_segment  age_of_vehicle_years  \\\n",
              "ID                                                                              \n",
              "1        0  3. 35 to 44    Male   model_1           LCV                     9   \n",
              "2        0          NaN     NaN   model_2  Small/Medium                     6   \n",
              "3        0          NaN    Male   model_3     Large/SUV                     9   \n",
              "5        0          NaN     NaN   model_3     Large/SUV                     5   \n",
              "6        0          NaN  Female   model_2  Small/Medium                     8   \n",
              "\n",
              "    sched_serv_warr  non_sched_serv_warr  sched_serv_paid  \\\n",
              "ID                                                          \n",
              "1                 2                   10                3   \n",
              "2                10                    3               10   \n",
              "3                10                    9               10   \n",
              "5                 8                    5                8   \n",
              "6                 9                    4               10   \n",
              "\n",
              "    non_sched_serv_paid  total_paid_services  total_services  \\\n",
              "ID                                                             \n",
              "1                     7                    5               6   \n",
              "2                     4                    9              10   \n",
              "3                     9                   10              10   \n",
              "5                     4                    5               6   \n",
              "6                     7                    9               8   \n",
              "\n",
              "    mth_since_last_serv  annualised_mileage  num_dealers_visited  \\\n",
              "ID                                                                 \n",
              "1                     9                   8                   10   \n",
              "2                     6                  10                    7   \n",
              "3                     7                  10                    6   \n",
              "5                     4                  10                    9   \n",
              "6                     5                   4                    4   \n",
              "\n",
              "    num_serv_dealer_purchased  \n",
              "ID                             \n",
              "1                           4  \n",
              "2                          10  \n",
              "3                          10  \n",
              "5                           7  \n",
              "6                           9  "
            ]
          },
          "execution_count": 4,
          "metadata": {},
          "output_type": "execute_result"
        }
      ],
      "source": [
        "#Displays first 5 rows of the dataframe \n",
        "df.head()"
      ]
    },
    {
      "cell_type": "code",
      "execution_count": null,
      "metadata": {
        "colab": {
          "base_uri": "https://localhost:8080/",
          "height": 301
        },
        "id": "im8Ujd3Zl0YM",
        "outputId": "acc174df-89e9-4970-c70d-52708f45bbe9"
      },
      "outputs": [
        {
          "data": {
            "text/html": [
              "\n",
              "  <div id=\"df-96273b00-ec43-498f-834c-e3853accf0ce\">\n",
              "    <div class=\"colab-df-container\">\n",
              "      <div>\n",
              "<style scoped>\n",
              "    .dataframe tbody tr th:only-of-type {\n",
              "        vertical-align: middle;\n",
              "    }\n",
              "\n",
              "    .dataframe tbody tr th {\n",
              "        vertical-align: top;\n",
              "    }\n",
              "\n",
              "    .dataframe thead th {\n",
              "        text-align: right;\n",
              "    }\n",
              "</style>\n",
              "<table border=\"1\" class=\"dataframe\">\n",
              "  <thead>\n",
              "    <tr style=\"text-align: right;\">\n",
              "      <th></th>\n",
              "      <th>Target</th>\n",
              "      <th>age_band</th>\n",
              "      <th>gender</th>\n",
              "      <th>car_model</th>\n",
              "      <th>car_segment</th>\n",
              "      <th>age_of_vehicle_years</th>\n",
              "      <th>sched_serv_warr</th>\n",
              "      <th>non_sched_serv_warr</th>\n",
              "      <th>sched_serv_paid</th>\n",
              "      <th>non_sched_serv_paid</th>\n",
              "      <th>total_paid_services</th>\n",
              "      <th>total_services</th>\n",
              "      <th>mth_since_last_serv</th>\n",
              "      <th>annualised_mileage</th>\n",
              "      <th>num_dealers_visited</th>\n",
              "      <th>num_serv_dealer_purchased</th>\n",
              "    </tr>\n",
              "    <tr>\n",
              "      <th>ID</th>\n",
              "      <th></th>\n",
              "      <th></th>\n",
              "      <th></th>\n",
              "      <th></th>\n",
              "      <th></th>\n",
              "      <th></th>\n",
              "      <th></th>\n",
              "      <th></th>\n",
              "      <th></th>\n",
              "      <th></th>\n",
              "      <th></th>\n",
              "      <th></th>\n",
              "      <th></th>\n",
              "      <th></th>\n",
              "      <th></th>\n",
              "      <th></th>\n",
              "    </tr>\n",
              "  </thead>\n",
              "  <tbody>\n",
              "    <tr>\n",
              "      <th>154134</th>\n",
              "      <td>1</td>\n",
              "      <td>NaN</td>\n",
              "      <td>NaN</td>\n",
              "      <td>model_3</td>\n",
              "      <td>Large/SUV</td>\n",
              "      <td>7</td>\n",
              "      <td>10</td>\n",
              "      <td>10</td>\n",
              "      <td>9</td>\n",
              "      <td>10</td>\n",
              "      <td>10</td>\n",
              "      <td>10</td>\n",
              "      <td>3</td>\n",
              "      <td>6</td>\n",
              "      <td>10</td>\n",
              "      <td>10</td>\n",
              "    </tr>\n",
              "    <tr>\n",
              "      <th>154135</th>\n",
              "      <td>1</td>\n",
              "      <td>NaN</td>\n",
              "      <td>NaN</td>\n",
              "      <td>model_3</td>\n",
              "      <td>Large/SUV</td>\n",
              "      <td>4</td>\n",
              "      <td>10</td>\n",
              "      <td>10</td>\n",
              "      <td>10</td>\n",
              "      <td>10</td>\n",
              "      <td>10</td>\n",
              "      <td>10</td>\n",
              "      <td>2</td>\n",
              "      <td>3</td>\n",
              "      <td>10</td>\n",
              "      <td>10</td>\n",
              "    </tr>\n",
              "    <tr>\n",
              "      <th>154137</th>\n",
              "      <td>1</td>\n",
              "      <td>NaN</td>\n",
              "      <td>NaN</td>\n",
              "      <td>model_5</td>\n",
              "      <td>Large/SUV</td>\n",
              "      <td>4</td>\n",
              "      <td>4</td>\n",
              "      <td>9</td>\n",
              "      <td>5</td>\n",
              "      <td>4</td>\n",
              "      <td>3</td>\n",
              "      <td>8</td>\n",
              "      <td>4</td>\n",
              "      <td>7</td>\n",
              "      <td>10</td>\n",
              "      <td>10</td>\n",
              "    </tr>\n",
              "    <tr>\n",
              "      <th>154138</th>\n",
              "      <td>1</td>\n",
              "      <td>NaN</td>\n",
              "      <td>NaN</td>\n",
              "      <td>model_5</td>\n",
              "      <td>Large/SUV</td>\n",
              "      <td>2</td>\n",
              "      <td>1</td>\n",
              "      <td>10</td>\n",
              "      <td>1</td>\n",
              "      <td>10</td>\n",
              "      <td>9</td>\n",
              "      <td>8</td>\n",
              "      <td>3</td>\n",
              "      <td>6</td>\n",
              "      <td>7</td>\n",
              "      <td>10</td>\n",
              "    </tr>\n",
              "    <tr>\n",
              "      <th>154139</th>\n",
              "      <td>1</td>\n",
              "      <td>NaN</td>\n",
              "      <td>NaN</td>\n",
              "      <td>model_1</td>\n",
              "      <td>LCV</td>\n",
              "      <td>6</td>\n",
              "      <td>1</td>\n",
              "      <td>7</td>\n",
              "      <td>1</td>\n",
              "      <td>10</td>\n",
              "      <td>10</td>\n",
              "      <td>5</td>\n",
              "      <td>3</td>\n",
              "      <td>4</td>\n",
              "      <td>9</td>\n",
              "      <td>10</td>\n",
              "    </tr>\n",
              "  </tbody>\n",
              "</table>\n",
              "</div>\n",
              "      <button class=\"colab-df-convert\" onclick=\"convertToInteractive('df-96273b00-ec43-498f-834c-e3853accf0ce')\"\n",
              "              title=\"Convert this dataframe to an interactive table.\"\n",
              "              style=\"display:none;\">\n",
              "        \n",
              "  <svg xmlns=\"http://www.w3.org/2000/svg\" height=\"24px\"viewBox=\"0 0 24 24\"\n",
              "       width=\"24px\">\n",
              "    <path d=\"M0 0h24v24H0V0z\" fill=\"none\"/>\n",
              "    <path d=\"M18.56 5.44l.94 2.06.94-2.06 2.06-.94-2.06-.94-.94-2.06-.94 2.06-2.06.94zm-11 1L8.5 8.5l.94-2.06 2.06-.94-2.06-.94L8.5 2.5l-.94 2.06-2.06.94zm10 10l.94 2.06.94-2.06 2.06-.94-2.06-.94-.94-2.06-.94 2.06-2.06.94z\"/><path d=\"M17.41 7.96l-1.37-1.37c-.4-.4-.92-.59-1.43-.59-.52 0-1.04.2-1.43.59L10.3 9.45l-7.72 7.72c-.78.78-.78 2.05 0 2.83L4 21.41c.39.39.9.59 1.41.59.51 0 1.02-.2 1.41-.59l7.78-7.78 2.81-2.81c.8-.78.8-2.07 0-2.86zM5.41 20L4 18.59l7.72-7.72 1.47 1.35L5.41 20z\"/>\n",
              "  </svg>\n",
              "      </button>\n",
              "      \n",
              "  <style>\n",
              "    .colab-df-container {\n",
              "      display:flex;\n",
              "      flex-wrap:wrap;\n",
              "      gap: 12px;\n",
              "    }\n",
              "\n",
              "    .colab-df-convert {\n",
              "      background-color: #E8F0FE;\n",
              "      border: none;\n",
              "      border-radius: 50%;\n",
              "      cursor: pointer;\n",
              "      display: none;\n",
              "      fill: #1967D2;\n",
              "      height: 32px;\n",
              "      padding: 0 0 0 0;\n",
              "      width: 32px;\n",
              "    }\n",
              "\n",
              "    .colab-df-convert:hover {\n",
              "      background-color: #E2EBFA;\n",
              "      box-shadow: 0px 1px 2px rgba(60, 64, 67, 0.3), 0px 1px 3px 1px rgba(60, 64, 67, 0.15);\n",
              "      fill: #174EA6;\n",
              "    }\n",
              "\n",
              "    [theme=dark] .colab-df-convert {\n",
              "      background-color: #3B4455;\n",
              "      fill: #D2E3FC;\n",
              "    }\n",
              "\n",
              "    [theme=dark] .colab-df-convert:hover {\n",
              "      background-color: #434B5C;\n",
              "      box-shadow: 0px 1px 3px 1px rgba(0, 0, 0, 0.15);\n",
              "      filter: drop-shadow(0px 1px 2px rgba(0, 0, 0, 0.3));\n",
              "      fill: #FFFFFF;\n",
              "    }\n",
              "  </style>\n",
              "\n",
              "      <script>\n",
              "        const buttonEl =\n",
              "          document.querySelector('#df-96273b00-ec43-498f-834c-e3853accf0ce button.colab-df-convert');\n",
              "        buttonEl.style.display =\n",
              "          google.colab.kernel.accessAllowed ? 'block' : 'none';\n",
              "\n",
              "        async function convertToInteractive(key) {\n",
              "          const element = document.querySelector('#df-96273b00-ec43-498f-834c-e3853accf0ce');\n",
              "          const dataTable =\n",
              "            await google.colab.kernel.invokeFunction('convertToInteractive',\n",
              "                                                     [key], {});\n",
              "          if (!dataTable) return;\n",
              "\n",
              "          const docLinkHtml = 'Like what you see? Visit the ' +\n",
              "            '<a target=\"_blank\" href=https://colab.research.google.com/notebooks/data_table.ipynb>data table notebook</a>'\n",
              "            + ' to learn more about interactive tables.';\n",
              "          element.innerHTML = '';\n",
              "          dataTable['output_type'] = 'display_data';\n",
              "          await google.colab.output.renderOutput(dataTable, element);\n",
              "          const docLink = document.createElement('div');\n",
              "          docLink.innerHTML = docLinkHtml;\n",
              "          element.appendChild(docLink);\n",
              "        }\n",
              "      </script>\n",
              "    </div>\n",
              "  </div>\n",
              "  "
            ],
            "text/plain": [
              "        Target age_band gender car_model car_segment  age_of_vehicle_years  \\\n",
              "ID                                                                           \n",
              "154134       1      NaN    NaN   model_3   Large/SUV                     7   \n",
              "154135       1      NaN    NaN   model_3   Large/SUV                     4   \n",
              "154137       1      NaN    NaN   model_5   Large/SUV                     4   \n",
              "154138       1      NaN    NaN   model_5   Large/SUV                     2   \n",
              "154139       1      NaN    NaN   model_1         LCV                     6   \n",
              "\n",
              "        sched_serv_warr  non_sched_serv_warr  sched_serv_paid  \\\n",
              "ID                                                              \n",
              "154134               10                   10                9   \n",
              "154135               10                   10               10   \n",
              "154137                4                    9                5   \n",
              "154138                1                   10                1   \n",
              "154139                1                    7                1   \n",
              "\n",
              "        non_sched_serv_paid  total_paid_services  total_services  \\\n",
              "ID                                                                 \n",
              "154134                   10                   10              10   \n",
              "154135                   10                   10              10   \n",
              "154137                    4                    3               8   \n",
              "154138                   10                    9               8   \n",
              "154139                   10                   10               5   \n",
              "\n",
              "        mth_since_last_serv  annualised_mileage  num_dealers_visited  \\\n",
              "ID                                                                     \n",
              "154134                    3                   6                   10   \n",
              "154135                    2                   3                   10   \n",
              "154137                    4                   7                   10   \n",
              "154138                    3                   6                    7   \n",
              "154139                    3                   4                    9   \n",
              "\n",
              "        num_serv_dealer_purchased  \n",
              "ID                                 \n",
              "154134                         10  \n",
              "154135                         10  \n",
              "154137                         10  \n",
              "154138                         10  \n",
              "154139                         10  "
            ]
          },
          "execution_count": 5,
          "metadata": {},
          "output_type": "execute_result"
        }
      ],
      "source": [
        "#Displays last 5 rows of the dataframe \n",
        "df.tail()"
      ]
    },
    {
      "cell_type": "code",
      "execution_count": null,
      "metadata": {
        "colab": {
          "base_uri": "https://localhost:8080/",
          "height": 364
        },
        "id": "TDLOI19K3yQb",
        "outputId": "8da567b4-276f-4620-aa5b-af83dd8ed955"
      },
      "outputs": [
        {
          "data": {
            "text/html": [
              "\n",
              "  <div id=\"df-945639cb-07e5-42b9-acc4-2a3b0fd37e01\">\n",
              "    <div class=\"colab-df-container\">\n",
              "      <div>\n",
              "<style scoped>\n",
              "    .dataframe tbody tr th:only-of-type {\n",
              "        vertical-align: middle;\n",
              "    }\n",
              "\n",
              "    .dataframe tbody tr th {\n",
              "        vertical-align: top;\n",
              "    }\n",
              "\n",
              "    .dataframe thead th {\n",
              "        text-align: right;\n",
              "    }\n",
              "</style>\n",
              "<table border=\"1\" class=\"dataframe\">\n",
              "  <thead>\n",
              "    <tr style=\"text-align: right;\">\n",
              "      <th></th>\n",
              "      <th>Target</th>\n",
              "      <th>age_of_vehicle_years</th>\n",
              "      <th>sched_serv_warr</th>\n",
              "      <th>non_sched_serv_warr</th>\n",
              "      <th>sched_serv_paid</th>\n",
              "      <th>non_sched_serv_paid</th>\n",
              "      <th>total_paid_services</th>\n",
              "      <th>total_services</th>\n",
              "      <th>mth_since_last_serv</th>\n",
              "      <th>annualised_mileage</th>\n",
              "      <th>num_dealers_visited</th>\n",
              "      <th>num_serv_dealer_purchased</th>\n",
              "    </tr>\n",
              "  </thead>\n",
              "  <tbody>\n",
              "    <tr>\n",
              "      <th>count</th>\n",
              "      <td>131337.000000</td>\n",
              "      <td>131337.000000</td>\n",
              "      <td>131337.000000</td>\n",
              "      <td>131337.000000</td>\n",
              "      <td>131337.000000</td>\n",
              "      <td>131337.000000</td>\n",
              "      <td>131337.000000</td>\n",
              "      <td>131337.000000</td>\n",
              "      <td>131337.000000</td>\n",
              "      <td>131337.000000</td>\n",
              "      <td>131337.000000</td>\n",
              "      <td>131337.000000</td>\n",
              "    </tr>\n",
              "    <tr>\n",
              "      <th>mean</th>\n",
              "      <td>0.026809</td>\n",
              "      <td>5.493022</td>\n",
              "      <td>5.452500</td>\n",
              "      <td>5.472517</td>\n",
              "      <td>5.452287</td>\n",
              "      <td>5.497050</td>\n",
              "      <td>5.481692</td>\n",
              "      <td>5.454967</td>\n",
              "      <td>5.469807</td>\n",
              "      <td>5.502836</td>\n",
              "      <td>5.485438</td>\n",
              "      <td>5.480778</td>\n",
              "    </tr>\n",
              "    <tr>\n",
              "      <th>std</th>\n",
              "      <td>0.161525</td>\n",
              "      <td>2.843299</td>\n",
              "      <td>2.884328</td>\n",
              "      <td>2.870665</td>\n",
              "      <td>2.886528</td>\n",
              "      <td>2.878699</td>\n",
              "      <td>2.880408</td>\n",
              "      <td>2.875961</td>\n",
              "      <td>2.859756</td>\n",
              "      <td>2.854896</td>\n",
              "      <td>2.876772</td>\n",
              "      <td>2.867524</td>\n",
              "    </tr>\n",
              "    <tr>\n",
              "      <th>min</th>\n",
              "      <td>0.000000</td>\n",
              "      <td>1.000000</td>\n",
              "      <td>1.000000</td>\n",
              "      <td>1.000000</td>\n",
              "      <td>1.000000</td>\n",
              "      <td>1.000000</td>\n",
              "      <td>1.000000</td>\n",
              "      <td>1.000000</td>\n",
              "      <td>1.000000</td>\n",
              "      <td>1.000000</td>\n",
              "      <td>1.000000</td>\n",
              "      <td>1.000000</td>\n",
              "    </tr>\n",
              "    <tr>\n",
              "      <th>25%</th>\n",
              "      <td>0.000000</td>\n",
              "      <td>3.000000</td>\n",
              "      <td>3.000000</td>\n",
              "      <td>3.000000</td>\n",
              "      <td>3.000000</td>\n",
              "      <td>3.000000</td>\n",
              "      <td>3.000000</td>\n",
              "      <td>3.000000</td>\n",
              "      <td>3.000000</td>\n",
              "      <td>3.000000</td>\n",
              "      <td>3.000000</td>\n",
              "      <td>3.000000</td>\n",
              "    </tr>\n",
              "    <tr>\n",
              "      <th>50%</th>\n",
              "      <td>0.000000</td>\n",
              "      <td>5.000000</td>\n",
              "      <td>5.000000</td>\n",
              "      <td>5.000000</td>\n",
              "      <td>5.000000</td>\n",
              "      <td>5.000000</td>\n",
              "      <td>5.000000</td>\n",
              "      <td>5.000000</td>\n",
              "      <td>5.000000</td>\n",
              "      <td>5.000000</td>\n",
              "      <td>5.000000</td>\n",
              "      <td>5.000000</td>\n",
              "    </tr>\n",
              "    <tr>\n",
              "      <th>75%</th>\n",
              "      <td>0.000000</td>\n",
              "      <td>8.000000</td>\n",
              "      <td>8.000000</td>\n",
              "      <td>8.000000</td>\n",
              "      <td>8.000000</td>\n",
              "      <td>8.000000</td>\n",
              "      <td>8.000000</td>\n",
              "      <td>8.000000</td>\n",
              "      <td>8.000000</td>\n",
              "      <td>8.000000</td>\n",
              "      <td>8.000000</td>\n",
              "      <td>8.000000</td>\n",
              "    </tr>\n",
              "    <tr>\n",
              "      <th>max</th>\n",
              "      <td>1.000000</td>\n",
              "      <td>10.000000</td>\n",
              "      <td>10.000000</td>\n",
              "      <td>10.000000</td>\n",
              "      <td>10.000000</td>\n",
              "      <td>10.000000</td>\n",
              "      <td>10.000000</td>\n",
              "      <td>10.000000</td>\n",
              "      <td>10.000000</td>\n",
              "      <td>10.000000</td>\n",
              "      <td>10.000000</td>\n",
              "      <td>10.000000</td>\n",
              "    </tr>\n",
              "  </tbody>\n",
              "</table>\n",
              "</div>\n",
              "      <button class=\"colab-df-convert\" onclick=\"convertToInteractive('df-945639cb-07e5-42b9-acc4-2a3b0fd37e01')\"\n",
              "              title=\"Convert this dataframe to an interactive table.\"\n",
              "              style=\"display:none;\">\n",
              "        \n",
              "  <svg xmlns=\"http://www.w3.org/2000/svg\" height=\"24px\"viewBox=\"0 0 24 24\"\n",
              "       width=\"24px\">\n",
              "    <path d=\"M0 0h24v24H0V0z\" fill=\"none\"/>\n",
              "    <path d=\"M18.56 5.44l.94 2.06.94-2.06 2.06-.94-2.06-.94-.94-2.06-.94 2.06-2.06.94zm-11 1L8.5 8.5l.94-2.06 2.06-.94-2.06-.94L8.5 2.5l-.94 2.06-2.06.94zm10 10l.94 2.06.94-2.06 2.06-.94-2.06-.94-.94-2.06-.94 2.06-2.06.94z\"/><path d=\"M17.41 7.96l-1.37-1.37c-.4-.4-.92-.59-1.43-.59-.52 0-1.04.2-1.43.59L10.3 9.45l-7.72 7.72c-.78.78-.78 2.05 0 2.83L4 21.41c.39.39.9.59 1.41.59.51 0 1.02-.2 1.41-.59l7.78-7.78 2.81-2.81c.8-.78.8-2.07 0-2.86zM5.41 20L4 18.59l7.72-7.72 1.47 1.35L5.41 20z\"/>\n",
              "  </svg>\n",
              "      </button>\n",
              "      \n",
              "  <style>\n",
              "    .colab-df-container {\n",
              "      display:flex;\n",
              "      flex-wrap:wrap;\n",
              "      gap: 12px;\n",
              "    }\n",
              "\n",
              "    .colab-df-convert {\n",
              "      background-color: #E8F0FE;\n",
              "      border: none;\n",
              "      border-radius: 50%;\n",
              "      cursor: pointer;\n",
              "      display: none;\n",
              "      fill: #1967D2;\n",
              "      height: 32px;\n",
              "      padding: 0 0 0 0;\n",
              "      width: 32px;\n",
              "    }\n",
              "\n",
              "    .colab-df-convert:hover {\n",
              "      background-color: #E2EBFA;\n",
              "      box-shadow: 0px 1px 2px rgba(60, 64, 67, 0.3), 0px 1px 3px 1px rgba(60, 64, 67, 0.15);\n",
              "      fill: #174EA6;\n",
              "    }\n",
              "\n",
              "    [theme=dark] .colab-df-convert {\n",
              "      background-color: #3B4455;\n",
              "      fill: #D2E3FC;\n",
              "    }\n",
              "\n",
              "    [theme=dark] .colab-df-convert:hover {\n",
              "      background-color: #434B5C;\n",
              "      box-shadow: 0px 1px 3px 1px rgba(0, 0, 0, 0.15);\n",
              "      filter: drop-shadow(0px 1px 2px rgba(0, 0, 0, 0.3));\n",
              "      fill: #FFFFFF;\n",
              "    }\n",
              "  </style>\n",
              "\n",
              "      <script>\n",
              "        const buttonEl =\n",
              "          document.querySelector('#df-945639cb-07e5-42b9-acc4-2a3b0fd37e01 button.colab-df-convert');\n",
              "        buttonEl.style.display =\n",
              "          google.colab.kernel.accessAllowed ? 'block' : 'none';\n",
              "\n",
              "        async function convertToInteractive(key) {\n",
              "          const element = document.querySelector('#df-945639cb-07e5-42b9-acc4-2a3b0fd37e01');\n",
              "          const dataTable =\n",
              "            await google.colab.kernel.invokeFunction('convertToInteractive',\n",
              "                                                     [key], {});\n",
              "          if (!dataTable) return;\n",
              "\n",
              "          const docLinkHtml = 'Like what you see? Visit the ' +\n",
              "            '<a target=\"_blank\" href=https://colab.research.google.com/notebooks/data_table.ipynb>data table notebook</a>'\n",
              "            + ' to learn more about interactive tables.';\n",
              "          element.innerHTML = '';\n",
              "          dataTable['output_type'] = 'display_data';\n",
              "          await google.colab.output.renderOutput(dataTable, element);\n",
              "          const docLink = document.createElement('div');\n",
              "          docLink.innerHTML = docLinkHtml;\n",
              "          element.appendChild(docLink);\n",
              "        }\n",
              "      </script>\n",
              "    </div>\n",
              "  </div>\n",
              "  "
            ],
            "text/plain": [
              "              Target  age_of_vehicle_years  sched_serv_warr  \\\n",
              "count  131337.000000         131337.000000    131337.000000   \n",
              "mean        0.026809              5.493022         5.452500   \n",
              "std         0.161525              2.843299         2.884328   \n",
              "min         0.000000              1.000000         1.000000   \n",
              "25%         0.000000              3.000000         3.000000   \n",
              "50%         0.000000              5.000000         5.000000   \n",
              "75%         0.000000              8.000000         8.000000   \n",
              "max         1.000000             10.000000        10.000000   \n",
              "\n",
              "       non_sched_serv_warr  sched_serv_paid  non_sched_serv_paid  \\\n",
              "count        131337.000000    131337.000000        131337.000000   \n",
              "mean              5.472517         5.452287             5.497050   \n",
              "std               2.870665         2.886528             2.878699   \n",
              "min               1.000000         1.000000             1.000000   \n",
              "25%               3.000000         3.000000             3.000000   \n",
              "50%               5.000000         5.000000             5.000000   \n",
              "75%               8.000000         8.000000             8.000000   \n",
              "max              10.000000        10.000000            10.000000   \n",
              "\n",
              "       total_paid_services  total_services  mth_since_last_serv  \\\n",
              "count        131337.000000   131337.000000        131337.000000   \n",
              "mean              5.481692        5.454967             5.469807   \n",
              "std               2.880408        2.875961             2.859756   \n",
              "min               1.000000        1.000000             1.000000   \n",
              "25%               3.000000        3.000000             3.000000   \n",
              "50%               5.000000        5.000000             5.000000   \n",
              "75%               8.000000        8.000000             8.000000   \n",
              "max              10.000000       10.000000            10.000000   \n",
              "\n",
              "       annualised_mileage  num_dealers_visited  num_serv_dealer_purchased  \n",
              "count       131337.000000        131337.000000              131337.000000  \n",
              "mean             5.502836             5.485438                   5.480778  \n",
              "std              2.854896             2.876772                   2.867524  \n",
              "min              1.000000             1.000000                   1.000000  \n",
              "25%              3.000000             3.000000                   3.000000  \n",
              "50%              5.000000             5.000000                   5.000000  \n",
              "75%              8.000000             8.000000                   8.000000  \n",
              "max             10.000000            10.000000                  10.000000  "
            ]
          },
          "execution_count": 6,
          "metadata": {},
          "output_type": "execute_result"
        }
      ],
      "source": [
        "#Generate descriptive statistics for the numeric type column\n",
        "df.describe()"
      ]
    },
    {
      "cell_type": "code",
      "execution_count": null,
      "metadata": {
        "colab": {
          "base_uri": "https://localhost:8080/"
        },
        "id": "iSkmJWURswR-",
        "outputId": "8a448dfc-0d1d-46d5-ed4a-f7b7a505e213"
      },
      "outputs": [
        {
          "name": "stdout",
          "output_type": "stream",
          "text": [
            "<class 'pandas.core.frame.DataFrame'>\n",
            "Int64Index: 131337 entries, 1 to 154139\n",
            "Data columns (total 16 columns):\n",
            " #   Column                     Non-Null Count   Dtype \n",
            "---  ------                     --------------   ----- \n",
            " 0   Target                     131337 non-null  int64 \n",
            " 1   age_band                   18962 non-null   object\n",
            " 2   gender                     62029 non-null   object\n",
            " 3   car_model                  131337 non-null  object\n",
            " 4   car_segment                131337 non-null  object\n",
            " 5   age_of_vehicle_years       131337 non-null  int64 \n",
            " 6   sched_serv_warr            131337 non-null  int64 \n",
            " 7   non_sched_serv_warr        131337 non-null  int64 \n",
            " 8   sched_serv_paid            131337 non-null  int64 \n",
            " 9   non_sched_serv_paid        131337 non-null  int64 \n",
            " 10  total_paid_services        131337 non-null  int64 \n",
            " 11  total_services             131337 non-null  int64 \n",
            " 12  mth_since_last_serv        131337 non-null  int64 \n",
            " 13  annualised_mileage         131337 non-null  int64 \n",
            " 14  num_dealers_visited        131337 non-null  int64 \n",
            " 15  num_serv_dealer_purchased  131337 non-null  int64 \n",
            "dtypes: int64(12), object(4)\n",
            "memory usage: 17.0+ MB\n"
          ]
        }
      ],
      "source": [
        "#Print information about the datafram on the index dtype and columns, non-null values and memory usage\n",
        "df.info()"
      ]
    },
    {
      "cell_type": "code",
      "execution_count": null,
      "metadata": {
        "colab": {
          "base_uri": "https://localhost:8080/"
        },
        "id": "_Lf4XURD37pK",
        "outputId": "60dbbf25-a31b-44ec-9f2f-6dab87aa80dd"
      },
      "outputs": [
        {
          "data": {
            "text/plain": [
              "(131337, 16)"
            ]
          },
          "execution_count": 8,
          "metadata": {},
          "output_type": "execute_result"
        }
      ],
      "source": [
        "#rows and columns in the dataframe\n",
        "df.shape"
      ]
    },
    {
      "cell_type": "code",
      "execution_count": null,
      "metadata": {
        "colab": {
          "base_uri": "https://localhost:8080/"
        },
        "id": "0myixjDi2bY_",
        "outputId": "7390b2dc-8d18-4a12-d45f-ab472ec35da3"
      },
      "outputs": [
        {
          "name": "stdout",
          "output_type": "stream",
          "text": [
            "Target                       5.859128\n",
            "age_of_vehicle_years         0.023906\n",
            "sched_serv_warr              0.021495\n",
            "non_sched_serv_warr          0.015396\n",
            "sched_serv_paid              0.020868\n",
            "non_sched_serv_paid          0.004243\n",
            "total_paid_services          0.010846\n",
            "total_services               0.027122\n",
            "mth_since_last_serv          0.019794\n",
            "annualised_mileage           0.000665\n",
            "num_dealers_visited          0.005518\n",
            "num_serv_dealer_purchased    0.010470\n",
            "dtype: float64\n"
          ]
        }
      ],
      "source": [
        "#check the skewness of the data\n",
        "print(df.skew())"
      ]
    },
    {
      "cell_type": "code",
      "execution_count": null,
      "metadata": {
        "colab": {
          "base_uri": "https://localhost:8080/"
        },
        "id": "cNw_H0LC2izS",
        "outputId": "dc71f062-789d-4865-cffa-6cc63ee57855"
      },
      "outputs": [
        {
          "name": "stdout",
          "output_type": "stream",
          "text": [
            "Target                       0.026090\n",
            "age_of_vehicle_years         8.084347\n",
            "sched_serv_warr              8.319348\n",
            "non_sched_serv_warr          8.240719\n",
            "sched_serv_paid              8.332043\n",
            "non_sched_serv_paid          8.286906\n",
            "total_paid_services          8.296752\n",
            "total_services               8.271151\n",
            "mth_since_last_serv          8.178203\n",
            "annualised_mileage           8.150432\n",
            "num_dealers_visited          8.275815\n",
            "num_serv_dealer_purchased    8.222694\n",
            "dtype: float64\n"
          ]
        }
      ],
      "source": [
        "#variance of various columns in the data\n",
        "print(df.var())"
      ]
    },
    {
      "cell_type": "code",
      "execution_count": null,
      "metadata": {
        "colab": {
          "base_uri": "https://localhost:8080/",
          "height": 428
        },
        "id": "jQqZPn9tf_bn",
        "outputId": "b47a32b3-5c63-4157-ec11-f40259ae20e0"
      },
      "outputs": [
        {
          "data": {
            "image/png": "[encoded data removed]",
            "text/plain": [
              "<Figure size 640x480 with 1 Axes>"
            ]
          },
          "metadata": {},
          "output_type": "display_data"
        }
      ],
      "source": [
        "# Define labels for the pie chart\n",
        "my_labels = ['Class 1', 'Class 0']\n",
        "\n",
        "# Count the number of rows for each class and store in a list\n",
        "class_div = [df[df['Target'] == 1].shape[0], df[df['Target'] == 0].shape[0]]\n",
        "\n",
        "# Calculate the percentage of each class\n",
        "total_rows = df.shape[0]\n",
        "class_percentages = [round(count / total_rows * 100, 2) for count in class_div]\n",
        "\n",
        "# Plot the pie chart with labels and percentages\n",
        "plt.pie(class_div, labels=my_labels, autopct='%1.2f%%')\n",
        "plt.title(\"Class Distribution\")\n",
        "plt.show()\n"
      ]
    },
    {
      "cell_type": "markdown",
      "metadata": {
        "id": "0E0DORav6NbD"
      },
      "source": [
        "The above pie chat shows that the Dependent feature is highly imbalanced. Class 1 represents if the customer has purchased more than one vehicle and class 0 represents if the customer owns a single vehicle."
      ]
    },
    {
      "cell_type": "markdown",
      "metadata": {
        "id": "rUTN4Q15cKhp"
      },
      "source": [
        "## Data Preparation and cleaning"
      ]
    },
    {
      "cell_type": "code",
      "execution_count": null,
      "metadata": {
        "colab": {
          "base_uri": "https://localhost:8080/"
        },
        "id": "4hpISW39wBEO",
        "outputId": "5fdba6b2-3188-41fc-bea4-19bb5ce2f5e0"
      },
      "outputs": [
        {
          "data": {
            "text/plain": [
              "Target                            0\n",
              "age_band                     112375\n",
              "gender                        69308\n",
              "car_model                         0\n",
              "car_segment                       0\n",
              "age_of_vehicle_years              0\n",
              "sched_serv_warr                   0\n",
              "non_sched_serv_warr               0\n",
              "sched_serv_paid                   0\n",
              "non_sched_serv_paid               0\n",
              "total_paid_services               0\n",
              "total_services                    0\n",
              "mth_since_last_serv               0\n",
              "annualised_mileage                0\n",
              "num_dealers_visited               0\n",
              "num_serv_dealer_purchased         0\n",
              "dtype: int64"
            ]
          },
          "execution_count": 12,
          "metadata": {},
          "output_type": "execute_result"
        }
      ],
      "source": [
        "#sum of null values in the dataframe\n",
        "df.isnull().sum()"
      ]
    },
    {
      "cell_type": "code",
      "execution_count": null,
      "metadata": {
        "colab": {
          "base_uri": "https://localhost:8080/",
          "height": 637
        },
        "id": "MbKBeNSfapNi",
        "outputId": "c525a75c-b2a9-4ce7-baf9-4c160620e24e"
      },
      "outputs": [
        {
          "data": {
            "text/plain": [
              "<Axes: ylabel='ID'>"
            ]
          },
          "execution_count": 13,
          "metadata": {},
          "output_type": "execute_result"
        },
        {
          "data": {
            "image/png": "[encoded data removed]",
            "text/plain": [
              "<Figure size 640x480 with 2 Axes>"
            ]
          },
          "metadata": {},
          "output_type": "display_data"
        }
      ],
      "source": [
        "#heatmap highlighing null values in the dataframe\n",
        "sns.heatmap(df.isnull(), yticklabels = False)"
      ]
    },
    {
      "cell_type": "code",
      "execution_count": null,
      "metadata": {
        "colab": {
          "base_uri": "https://localhost:8080/"
        },
        "id": "TD24KLOvleoV",
        "outputId": "8990654a-45b8-4cb9-ee22-5da3ced05365"
      },
      "outputs": [
        {
          "data": {
            "text/plain": [
              "Target                        0.000000\n",
              "age_band                     85.562332\n",
              "gender                       52.771116\n",
              "car_model                     0.000000\n",
              "car_segment                   0.000000\n",
              "age_of_vehicle_years          0.000000\n",
              "sched_serv_warr               0.000000\n",
              "non_sched_serv_warr           0.000000\n",
              "sched_serv_paid               0.000000\n",
              "non_sched_serv_paid           0.000000\n",
              "total_paid_services           0.000000\n",
              "total_services                0.000000\n",
              "mth_since_last_serv           0.000000\n",
              "annualised_mileage            0.000000\n",
              "num_dealers_visited           0.000000\n",
              "num_serv_dealer_purchased     0.000000\n",
              "dtype: float64"
            ]
          },
          "execution_count": 14,
          "metadata": {},
          "output_type": "execute_result"
        }
      ],
      "source": [
        "#percentage of null values in the dataframe\n",
        "df.isnull().sum()/(len(df))*100"
      ]
    },
    {
      "cell_type": "markdown",
      "metadata": {
        "id": "Jx5efAVJmT3O"
      },
      "source": [
        "As features, 'age_band' and 'gender' has a high percentage of missing values which is more than 85% and 52% respectively. Therefore, I will not take it into consideration for my analysis. "
      ]
    },
    {
      "cell_type": "code",
      "execution_count": null,
      "metadata": {
        "id": "y43ekOrMapNh"
      },
      "outputs": [],
      "source": [
        "#copy the dataframe\n",
        "df_clean = df.copy()"
      ]
    },
    {
      "cell_type": "code",
      "execution_count": null,
      "metadata": {
        "id": "y5GlMRmjzbCd"
      },
      "outputs": [],
      "source": [
        "#Drop the original 'age_band' and 'gender' columns\n",
        "df_clean.drop('age_band', axis=1, inplace=True)\n",
        "df_clean.drop('gender', axis=1, inplace = True)"
      ]
    },
    {
      "cell_type": "code",
      "execution_count": null,
      "metadata": {
        "colab": {
          "base_uri": "https://localhost:8080/"
        },
        "id": "OqYvXS2UapNh",
        "outputId": "2f6a2cff-ea5a-4ed2-fe0a-c27ce7f4991b"
      },
      "outputs": [
        {
          "data": {
            "text/plain": [
              "Target                       0\n",
              "car_model                    0\n",
              "car_segment                  0\n",
              "age_of_vehicle_years         0\n",
              "sched_serv_warr              0\n",
              "non_sched_serv_warr          0\n",
              "sched_serv_paid              0\n",
              "non_sched_serv_paid          0\n",
              "total_paid_services          0\n",
              "total_services               0\n",
              "mth_since_last_serv          0\n",
              "annualised_mileage           0\n",
              "num_dealers_visited          0\n",
              "num_serv_dealer_purchased    0\n",
              "dtype: int64"
            ]
          },
          "execution_count": 17,
          "metadata": {},
          "output_type": "execute_result"
        }
      ],
      "source": [
        "#check for null values after removing the columns\n",
        "df_clean.isnull().sum()"
      ]
    },
    {
      "cell_type": "code",
      "execution_count": null,
      "metadata": {
        "colab": {
          "base_uri": "https://localhost:8080/"
        },
        "id": "Qbfn93_J3DZ8",
        "outputId": "07656c68-ef9c-41da-df9d-e030145e1e91"
      },
      "outputs": [
        {
          "data": {
            "text/plain": [
              "19"
            ]
          },
          "execution_count": 18,
          "metadata": {},
          "output_type": "execute_result"
        }
      ],
      "source": [
        "#number of categories in categorical feature 'car_model'\n",
        "df_clean['car_model'].nunique()"
      ]
    },
    {
      "cell_type": "code",
      "execution_count": null,
      "metadata": {
        "colab": {
          "base_uri": "https://localhost:8080/"
        },
        "id": "sYh-IUfy2X35",
        "outputId": "4c69bec2-261b-4bf4-92b6-e30977f59d88"
      },
      "outputs": [
        {
          "data": {
            "text/plain": [
              "model_2     34491\n",
              "model_5     24674\n",
              "model_3     17074\n",
              "model_1     15331\n",
              "model_4     15155\n",
              "model_7      8167\n",
              "model_8      6443\n",
              "model_10     3215\n",
              "model_6      3071\n",
              "model_9       994\n",
              "model_13      714\n",
              "model_12      614\n",
              "model_11      612\n",
              "model_15      334\n",
              "model_17      153\n",
              "model_16      114\n",
              "model_18      101\n",
              "model_14       78\n",
              "model_19        2\n",
              "Name: car_model, dtype: int64"
            ]
          },
          "execution_count": 19,
          "metadata": {},
          "output_type": "execute_result"
        }
      ],
      "source": [
        "#count of different categories in 'car_model'\n",
        "df_clean['car_model'].value_counts()"
      ]
    },
    {
      "cell_type": "markdown",
      "metadata": {
        "id": "I_A8-MdyHFLy"
      },
      "source": [
        "There are a total of 19 different models. However, the number of models are less than 800 starting from model_11 to model_19.\n",
        "Therefore, I will group the models from 11 to 19 in a separate category called 'others'.\n",
        "This will reduce the number of categories from 19 models to 10 models."
      ]
    },
    {
      "cell_type": "code",
      "execution_count": null,
      "metadata": {
        "id": "rjYongPHiL0i"
      },
      "outputs": [],
      "source": [
        "#grouping models together having count less than 800\n",
        "model_counts = df_clean['car_model'].value_counts()\n",
        "models_to_group = model_counts[model_counts < 800].index.tolist()\n",
        "df_clean.loc[df_clean['car_model'].isin(models_to_group), 'car_model'] = 'Others'"
      ]
    },
    {
      "cell_type": "code",
      "execution_count": null,
      "metadata": {
        "colab": {
          "base_uri": "https://localhost:8080/"
        },
        "id": "yabjr3gViZZX",
        "outputId": "a221c246-9d21-4ec7-ddc1-2e6ec5063a47"
      },
      "outputs": [
        {
          "data": {
            "text/plain": [
              "model_2     34491\n",
              "model_5     24674\n",
              "model_3     17074\n",
              "model_1     15331\n",
              "model_4     15155\n",
              "model_7      8167\n",
              "model_8      6443\n",
              "model_10     3215\n",
              "model_6      3071\n",
              "Others       2722\n",
              "model_9       994\n",
              "Name: car_model, dtype: int64"
            ]
          },
          "execution_count": 21,
          "metadata": {},
          "output_type": "execute_result"
        }
      ],
      "source": [
        "#reduced number of categories in 'car_model'\n",
        "df_clean['car_model'].value_counts()"
      ]
    },
    {
      "cell_type": "code",
      "execution_count": null,
      "metadata": {
        "colab": {
          "base_uri": "https://localhost:8080/"
        },
        "id": "Xhcexqzy3SNX",
        "outputId": "64b245fa-3bc7-4ed6-bcd8-1250c6cefc3b"
      },
      "outputs": [
        {
          "data": {
            "text/plain": [
              "4"
            ]
          },
          "execution_count": 22,
          "metadata": {},
          "output_type": "execute_result"
        }
      ],
      "source": [
        "#number of categories in categorical feature 'car_segment'\n",
        "df_clean['car_segment'].nunique()"
      ]
    },
    {
      "cell_type": "code",
      "execution_count": null,
      "metadata": {
        "colab": {
          "base_uri": "https://localhost:8080/"
        },
        "id": "IJJ_I-_G3Lwh",
        "outputId": "7f91f27f-b890-40bc-90e5-fa7a1e0b934c"
      },
      "outputs": [
        {
          "data": {
            "text/plain": [
              "Small/Medium    54553\n",
              "Large/SUV       52120\n",
              "LCV             24606\n",
              "Other              58\n",
              "Name: car_segment, dtype: int64"
            ]
          },
          "execution_count": 23,
          "metadata": {},
          "output_type": "execute_result"
        }
      ],
      "source": [
        "#count of different categories in 'car_segment'\n",
        "df_clean['car_segment'].value_counts()"
      ]
    },
    {
      "cell_type": "markdown",
      "metadata": {
        "id": "zQvGUYHjpdIc"
      },
      "source": [
        "## Data Splitting"
      ]
    },
    {
      "cell_type": "code",
      "execution_count": null,
      "metadata": {
        "id": "cRgGsQdEp6vD"
      },
      "outputs": [],
      "source": [
        "# separting the dependent and independent features in y and X repectively\n",
        "y = df_clean.pop('Target')\n",
        "X = df_clean"
      ]
    },
    {
      "cell_type": "markdown",
      "metadata": {
        "id": "Q_d3i9iovKNZ"
      },
      "source": [
        "Creating Test datasets"
      ]
    },
    {
      "cell_type": "code",
      "execution_count": null,
      "metadata": {
        "id": "yc5r_p9DpAjP"
      },
      "outputs": [],
      "source": [
        "# importing necessary libraries\n",
        "from sklearn.model_selection import train_test_split\n",
        "\n",
        "# Split the dependent features and target variable into 2 different sets (data and test) with 80-20 ratio\n",
        "X_data, X_test, y_data, y_test = train_test_split(X, y, test_size=0.2, random_state=40)"
      ]
    },
    {
      "cell_type": "markdown",
      "metadata": {
        "id": "1AhaJdJUvPqe"
      },
      "source": [
        "Creating train and validation datasets"
      ]
    },
    {
      "cell_type": "code",
      "execution_count": null,
      "metadata": {
        "id": "L9O5-Jrfzurq"
      },
      "outputs": [],
      "source": [
        "# Split the features and target variable into 2 different sets (training and validation) with 75-25 ratio\n",
        "X_train, X_val, y_train, y_val = train_test_split(X_data, y_data, test_size=0.25, random_state=40)"
      ]
    },
    {
      "cell_type": "code",
      "execution_count": null,
      "metadata": {
        "id": "rtJMFhA2GWgG"
      },
      "outputs": [],
      "source": [
        "df_train = pd.concat([X_train, y_train], axis =1)\n",
        "df_test = pd.concat([X_test, y_test], axis =1)\n",
        "df_val = pd.concat([X_val, y_val], axis =1)"
      ]
    },
    {
      "cell_type": "code",
      "execution_count": null,
      "metadata": {
        "colab": {
          "base_uri": "https://localhost:8080/"
        },
        "id": "Mo51wKB5PmEV",
        "outputId": "9ae8c40b-4f2f-4fdf-d408-ba53d7412fa6"
      },
      "outputs": [
        {
          "data": {
            "text/plain": [
              "(78801, 14)"
            ]
          },
          "execution_count": 28,
          "metadata": {},
          "output_type": "execute_result"
        }
      ],
      "source": [
        "#rows and columns in the training dataframe\n",
        "df_train.shape"
      ]
    },
    {
      "cell_type": "code",
      "execution_count": null,
      "metadata": {
        "colab": {
          "base_uri": "https://localhost:8080/"
        },
        "id": "gQbyanSQPtsb",
        "outputId": "0677a605-2a26-4c94-961f-c428fd396ec1"
      },
      "outputs": [
        {
          "data": {
            "text/plain": [
              "(26268, 14)"
            ]
          },
          "execution_count": 29,
          "metadata": {},
          "output_type": "execute_result"
        }
      ],
      "source": [
        "#rows and columns in the validation dataframe\n",
        "df_val.shape"
      ]
    },
    {
      "cell_type": "code",
      "execution_count": null,
      "metadata": {
        "colab": {
          "base_uri": "https://localhost:8080/"
        },
        "id": "B9Z8lNm1Pw4T",
        "outputId": "d960ef67-ab24-46d9-9c62-e9f4a21c27ba"
      },
      "outputs": [
        {
          "data": {
            "text/plain": [
              "(26268, 14)"
            ]
          },
          "execution_count": 30,
          "metadata": {},
          "output_type": "execute_result"
        }
      ],
      "source": [
        "#rows and columns in the testing dataframe\n",
        "df_test.shape"
      ]
    },
    {
      "cell_type": "markdown",
      "metadata": {
        "id": "jm8vEO287ViD"
      },
      "source": [
        "## Handling categorical features\n",
        "For the categorical features, I will be using One Hot Encoding to convert the features to numeric type."
      ]
    },
    {
      "cell_type": "code",
      "execution_count": null,
      "metadata": {
        "id": "zVC9IMxgMewV"
      },
      "outputs": [],
      "source": [
        "# Categorical columns\n",
        "cat_cols = ['car_segment','car_model'] "
      ]
    },
    {
      "cell_type": "code",
      "execution_count": null,
      "metadata": {
        "id": "q0uKNlEiMewW"
      },
      "outputs": [],
      "source": [
        "# One hot encode the categorical columns by using the \"get_dummies\" function from pandas\n",
        "X_train = pd.get_dummies(X_train, columns=cat_cols)\n",
        "\n",
        "X_val = pd.get_dummies(X_val, columns=cat_cols)\n",
        "\n",
        "X_test = pd.get_dummies(X_test, columns=cat_cols)"
      ]
    },
    {
      "cell_type": "markdown",
      "metadata": {
        "id": "Y9JQt_7XRCyR"
      },
      "source": [
        "Verifying the columns in each of the dataframes"
      ]
    },
    {
      "cell_type": "code",
      "execution_count": null,
      "metadata": {
        "colab": {
          "base_uri": "https://localhost:8080/"
        },
        "id": "8VwNCVD9RKtC",
        "outputId": "ee381a72-ed60-49a7-c7f4-3e23b2079402"
      },
      "outputs": [
        {
          "data": {
            "text/plain": [
              "age_of_vehicle_years         int64\n",
              "sched_serv_warr              int64\n",
              "non_sched_serv_warr          int64\n",
              "sched_serv_paid              int64\n",
              "non_sched_serv_paid          int64\n",
              "total_paid_services          int64\n",
              "total_services               int64\n",
              "mth_since_last_serv          int64\n",
              "annualised_mileage           int64\n",
              "num_dealers_visited          int64\n",
              "num_serv_dealer_purchased    int64\n",
              "car_segment_LCV              uint8\n",
              "car_segment_Large/SUV        uint8\n",
              "car_segment_Other            uint8\n",
              "car_segment_Small/Medium     uint8\n",
              "car_model_Others             uint8\n",
              "car_model_model_1            uint8\n",
              "car_model_model_10           uint8\n",
              "car_model_model_2            uint8\n",
              "car_model_model_3            uint8\n",
              "car_model_model_4            uint8\n",
              "car_model_model_5            uint8\n",
              "car_model_model_6            uint8\n",
              "car_model_model_7            uint8\n",
              "car_model_model_8            uint8\n",
              "car_model_model_9            uint8\n",
              "dtype: object"
            ]
          },
          "execution_count": 39,
          "metadata": {},
          "output_type": "execute_result"
        }
      ],
      "source": [
        "X_train.dtypes"
      ]
    },
    {
      "cell_type": "code",
      "execution_count": null,
      "metadata": {
        "colab": {
          "base_uri": "https://localhost:8080/"
        },
        "id": "jDfTWSeae3ur",
        "outputId": "f072560d-fc04-4f5a-c4bf-28cd73981dec"
      },
      "outputs": [
        {
          "data": {
            "text/plain": [
              "age_of_vehicle_years         int64\n",
              "sched_serv_warr              int64\n",
              "non_sched_serv_warr          int64\n",
              "sched_serv_paid              int64\n",
              "non_sched_serv_paid          int64\n",
              "total_paid_services          int64\n",
              "total_services               int64\n",
              "mth_since_last_serv          int64\n",
              "annualised_mileage           int64\n",
              "num_dealers_visited          int64\n",
              "num_serv_dealer_purchased    int64\n",
              "car_segment_LCV              uint8\n",
              "car_segment_Large/SUV        uint8\n",
              "car_segment_Other            uint8\n",
              "car_segment_Small/Medium     uint8\n",
              "car_model_Others             uint8\n",
              "car_model_model_1            uint8\n",
              "car_model_model_10           uint8\n",
              "car_model_model_2            uint8\n",
              "car_model_model_3            uint8\n",
              "car_model_model_4            uint8\n",
              "car_model_model_5            uint8\n",
              "car_model_model_6            uint8\n",
              "car_model_model_7            uint8\n",
              "car_model_model_8            uint8\n",
              "car_model_model_9            uint8\n",
              "dtype: object"
            ]
          },
          "execution_count": 40,
          "metadata": {},
          "output_type": "execute_result"
        }
      ],
      "source": [
        "X_val.dtypes"
      ]
    },
    {
      "cell_type": "code",
      "execution_count": null,
      "metadata": {
        "colab": {
          "base_uri": "https://localhost:8080/"
        },
        "id": "6gb5ITWqfHfZ",
        "outputId": "a90e19df-6822-4960-b089-89f7cb616ece"
      },
      "outputs": [
        {
          "data": {
            "text/plain": [
              "age_of_vehicle_years         int64\n",
              "sched_serv_warr              int64\n",
              "non_sched_serv_warr          int64\n",
              "sched_serv_paid              int64\n",
              "non_sched_serv_paid          int64\n",
              "total_paid_services          int64\n",
              "total_services               int64\n",
              "mth_since_last_serv          int64\n",
              "annualised_mileage           int64\n",
              "num_dealers_visited          int64\n",
              "num_serv_dealer_purchased    int64\n",
              "car_segment_LCV              uint8\n",
              "car_segment_Large/SUV        uint8\n",
              "car_segment_Other            uint8\n",
              "car_segment_Small/Medium     uint8\n",
              "car_model_Others             uint8\n",
              "car_model_model_1            uint8\n",
              "car_model_model_10           uint8\n",
              "car_model_model_2            uint8\n",
              "car_model_model_3            uint8\n",
              "car_model_model_4            uint8\n",
              "car_model_model_5            uint8\n",
              "car_model_model_6            uint8\n",
              "car_model_model_7            uint8\n",
              "car_model_model_8            uint8\n",
              "car_model_model_9            uint8\n",
              "dtype: object"
            ]
          },
          "execution_count": 41,
          "metadata": {},
          "output_type": "execute_result"
        }
      ],
      "source": [
        "X_test.dtypes"
      ]
    },
    {
      "cell_type": "markdown",
      "metadata": {
        "id": "aIjbGoyCOZwz"
      },
      "source": [
        "## Resampling of Training data"
      ]
    },
    {
      "cell_type": "code",
      "execution_count": null,
      "metadata": {
        "colab": {
          "base_uri": "https://localhost:8080/",
          "height": 499
        },
        "id": "2F0FSQPgIXPm",
        "outputId": "45ae2b90-7889-43bf-9382-e9a1710a55a0"
      },
      "outputs": [
        {
          "name": "stdout",
          "output_type": "stream",
          "text": [
            "Class 0: 76724\n",
            "Class 1: 2077\n",
            "Proportion: 36.94 : 1\n"
          ]
        },
        {
          "data": {
            "image/png": "[encoded data removed]",
            "text/plain": [
              "<Figure size 640x480 with 1 Axes>"
            ]
          },
          "metadata": {},
          "output_type": "display_data"
        }
      ],
      "source": [
        "#barplot showing imbalances in dependent feature\n",
        "target_count = df_train.Target.value_counts()\n",
        "print('Class 0:', target_count[0])\n",
        "print('Class 1:', target_count[1])\n",
        "print('Proportion:', round(target_count[0] / target_count[1], 2), ': 1')\n",
        "\n",
        "target_count.plot(kind='bar', title='Count (target)');"
      ]
    },
    {
      "cell_type": "markdown",
      "metadata": {
        "id": "DAjIJVvOSOxX"
      },
      "source": [
        "from the above barplot, it is clear that '1' is a minority class. \n",
        "Resampling of data is important here as there is a  significant class imbalance, wherein one class represents only a small fraction of the dataset. Thus,the model can be biased towards the majority class and making it difficult to predict the minority class accurately."
      ]
    },
    {
      "cell_type": "markdown",
      "metadata": {
        "id": "bpwdflsLhhE9"
      },
      "source": [
        "Resampling the Minority class\n",
        "I will be performing oversampling of minority class(1) using SMOTE(Synthetic Minority Over-sampling Technique)"
      ]
    },
    {
      "cell_type": "code",
      "execution_count": null,
      "metadata": {
        "colab": {
          "base_uri": "https://localhost:8080/"
        },
        "id": "3HT8I6jchn0C",
        "outputId": "04c9c8e6-d666-47da-aa81-9bf9c5343f77"
      },
      "outputs": [
        {
          "name": "stdout",
          "output_type": "stream",
          "text": [
            "Looking in indexes: https://pypi.org/simple, https://us-python.pkg.dev/colab-wheels/public/simple/\n",
            "Collecting imblearn\n",
            "  Downloading imblearn-0.0-py2.py3-none-any.whl (1.9 kB)\n",
            "Requirement already satisfied: imbalanced-learn in /usr/local/lib/python3.9/dist-packages (from imblearn) (0.10.1)\n",
            "Requirement already satisfied: numpy>=1.17.3 in /usr/local/lib/python3.9/dist-packages (from imbalanced-learn->imblearn) (1.22.4)\n",
            "Requirement already satisfied: joblib>=1.1.1 in /usr/local/lib/python3.9/dist-packages (from imbalanced-learn->imblearn) (1.2.0)\n",
            "Requirement already satisfied: scikit-learn>=1.0.2 in /usr/local/lib/python3.9/dist-packages (from imbalanced-learn->imblearn) (1.2.2)\n",
            "Requirement already satisfied: threadpoolctl>=2.0.0 in /usr/local/lib/python3.9/dist-packages (from imbalanced-learn->imblearn) (3.1.0)\n",
            "Requirement already satisfied: scipy>=1.3.2 in /usr/local/lib/python3.9/dist-packages (from imbalanced-learn->imblearn) (1.10.1)\n",
            "Installing collected packages: imblearn\n",
            "Successfully installed imblearn-0.0\n"
          ]
        }
      ],
      "source": [
        "#intall and load necessary libraries\n",
        "!pip install imblearn\n",
        "from imblearn.over_sampling import SMOTE\n",
        "\n",
        "smote = SMOTE()\n",
        "X_sm, y_sm = smote.fit_resample(X_train, y_train)"
      ]
    },
    {
      "cell_type": "code",
      "execution_count": null,
      "metadata": {
        "colab": {
          "base_uri": "https://localhost:8080/"
        },
        "id": "QcXpQOsOm683",
        "outputId": "cd57fd9b-8443-43e5-fbc9-7fd03a8df07f"
      },
      "outputs": [
        {
          "name": "stdout",
          "output_type": "stream",
          "text": [
            "Before oversampling:\n",
            "0    76724\n",
            "1     2077\n",
            "Name: Target, dtype: int64\n",
            "After oversampling:\n",
            "0    76724\n",
            "1    76724\n",
            "Name: Target, dtype: int64\n"
          ]
        }
      ],
      "source": [
        "# Print the number of samples before and after oversampling\n",
        "print(\"Before oversampling:\")\n",
        "print(y_train.value_counts())\n",
        "print(\"After oversampling:\")\n",
        "print(y_sm.value_counts())"
      ]
    },
    {
      "cell_type": "code",
      "execution_count": null,
      "metadata": {
        "id": "RNhEN58E-RHe"
      },
      "outputs": [],
      "source": [
        "X_select = X_sm[['non_sched_serv_paid', 'num_dealers_visited', 'num_serv_dealer_purchased']]\n",
        "X_val_select = X_val[['non_sched_serv_paid', 'num_dealers_visited', 'num_serv_dealer_purchased']]\n",
        "X_test_select = X_test[['non_sched_serv_paid', 'num_dealers_visited', 'num_serv_dealer_purchased']]"
      ]
    },
    {
      "cell_type": "markdown",
      "metadata": {
        "id": "I0K2ianywrjs"
      },
      "source": [
        "## Train Initial RandomForest with Default Hyperparameter"
      ]
    },
    {
      "cell_type": "code",
      "execution_count": null,
      "metadata": {
        "id": "nTelvJBAk23D"
      },
      "outputs": [],
      "source": [
        "# Import the RandomForestClassifier from sklearn.ensemble\n",
        "from sklearn.ensemble import RandomForestClassifier"
      ]
    },
    {
      "cell_type": "code",
      "execution_count": null,
      "metadata": {
        "id": "HfK5SxbglmnQ"
      },
      "outputs": [],
      "source": [
        "# Instantiate the RandomForestClassifier class called rf1 with a random state=8\n",
        "rf1 = RandomForestClassifier(random_state=8)"
      ]
    },
    {
      "cell_type": "code",
      "execution_count": null,
      "metadata": {
        "colab": {
          "base_uri": "https://localhost:8080/",
          "height": 74
        },
        "id": "Ib8mHNwzn5L2",
        "outputId": "5f03a10f-b790-42f3-de98-cd374ed0294b"
      },
      "outputs": [
        {
          "data": {
            "text/html": [
              "<style>#sk-container-id-1 {color: black;background-color: white;}#sk-container-id-1 pre{padding: 0;}#sk-container-id-1 div.sk-toggleable {background-color: white;}#sk-container-id-1 label.sk-toggleable__label {cursor: pointer;display: block;width: 100%;margin-bottom: 0;padding: 0.3em;box-sizing: border-box;text-align: center;}#sk-container-id-1 label.sk-toggleable__label-arrow:before {content: \"▸\";float: left;margin-right: 0.25em;color: #696969;}#sk-container-id-1 label.sk-toggleable__label-arrow:hover:before {color: black;}#sk-container-id-1 div.sk-estimator:hover label.sk-toggleable__label-arrow:before {color: black;}#sk-container-id-1 div.sk-toggleable__content {max-height: 0;max-width: 0;overflow: hidden;text-align: left;background-color: #f0f8ff;}#sk-container-id-1 div.sk-toggleable__content pre {margin: 0.2em;color: black;border-radius: 0.25em;background-color: #f0f8ff;}#sk-container-id-1 input.sk-toggleable__control:checked~div.sk-toggleable__content {max-height: 200px;max-width: 100%;overflow: auto;}#sk-container-id-1 input.sk-toggleable__control:checked~label.sk-toggleable__label-arrow:before {content: \"▾\";}#sk-container-id-1 div.sk-estimator input.sk-toggleable__control:checked~label.sk-toggleable__label {background-color: #d4ebff;}#sk-container-id-1 div.sk-label input.sk-toggleable__control:checked~label.sk-toggleable__label {background-color: #d4ebff;}#sk-container-id-1 input.sk-hidden--visually {border: 0;clip: rect(1px 1px 1px 1px);clip: rect(1px, 1px, 1px, 1px);height: 1px;margin: -1px;overflow: hidden;padding: 0;position: absolute;width: 1px;}#sk-container-id-1 div.sk-estimator {font-family: monospace;background-color: #f0f8ff;border: 1px dotted black;border-radius: 0.25em;box-sizing: border-box;margin-bottom: 0.5em;}#sk-container-id-1 div.sk-estimator:hover {background-color: #d4ebff;}#sk-container-id-1 div.sk-parallel-item::after {content: \"\";width: 100%;border-bottom: 1px solid gray;flex-grow: 1;}#sk-container-id-1 div.sk-label:hover label.sk-toggleable__label {background-color: #d4ebff;}#sk-container-id-1 div.sk-serial::before {content: \"\";position: absolute;border-left: 1px solid gray;box-sizing: border-box;top: 0;bottom: 0;left: 50%;z-index: 0;}#sk-container-id-1 div.sk-serial {display: flex;flex-direction: column;align-items: center;background-color: white;padding-right: 0.2em;padding-left: 0.2em;position: relative;}#sk-container-id-1 div.sk-item {position: relative;z-index: 1;}#sk-container-id-1 div.sk-parallel {display: flex;align-items: stretch;justify-content: center;background-color: white;position: relative;}#sk-container-id-1 div.sk-item::before, #sk-container-id-1 div.sk-parallel-item::before {content: \"\";position: absolute;border-left: 1px solid gray;box-sizing: border-box;top: 0;bottom: 0;left: 50%;z-index: -1;}#sk-container-id-1 div.sk-parallel-item {display: flex;flex-direction: column;z-index: 1;position: relative;background-color: white;}#sk-container-id-1 div.sk-parallel-item:first-child::after {align-self: flex-end;width: 50%;}#sk-container-id-1 div.sk-parallel-item:last-child::after {align-self: flex-start;width: 50%;}#sk-container-id-1 div.sk-parallel-item:only-child::after {width: 0;}#sk-container-id-1 div.sk-dashed-wrapped {border: 1px dashed gray;margin: 0 0.4em 0.5em 0.4em;box-sizing: border-box;padding-bottom: 0.4em;background-color: white;}#sk-container-id-1 div.sk-label label {font-family: monospace;font-weight: bold;display: inline-block;line-height: 1.2em;}#sk-container-id-1 div.sk-label-container {text-align: center;}#sk-container-id-1 div.sk-container {/* jupyter's `normalize.less` sets `[hidden] { display: none; }` but bootstrap.min.css set `[hidden] { display: none !important; }` so we also need the `!important` here to be able to override the default hidden behavior on the sphinx rendered scikit-learn.org. See: https://github.com/scikit-learn/scikit-learn/issues/21755 */display: inline-block !important;position: relative;}#sk-container-id-1 div.sk-text-repr-fallback {display: none;}</style><div id=\"sk-container-id-1\" class=\"sk-top-container\"><div class=\"sk-text-repr-fallback\"><pre>RandomForestClassifier(random_state=8)</pre><b>In a Jupyter environment, please rerun this cell to show the HTML representation or trust the notebook. <br />On GitHub, the HTML representation is unable to render, please try loading this page with nbviewer.org.</b></div><div class=\"sk-container\" hidden><div class=\"sk-item\"><div class=\"sk-estimator sk-toggleable\"><input class=\"sk-toggleable__control sk-hidden--visually\" id=\"sk-estimator-id-1\" type=\"checkbox\" checked><label for=\"sk-estimator-id-1\" class=\"sk-toggleable__label sk-toggleable__label-arrow\">RandomForestClassifier</label><div class=\"sk-toggleable__content\"><pre>RandomForestClassifier(random_state=8)</pre></div></div></div></div></div>"
            ],
            "text/plain": [
              "RandomForestClassifier(random_state=8)"
            ]
          },
          "execution_count": 48,
          "metadata": {},
          "output_type": "execute_result"
        }
      ],
      "source": [
        "# Fit the RandomForest model\n",
        "rf1.fit(X_sm, y_sm)"
      ]
    },
    {
      "cell_type": "code",
      "execution_count": null,
      "metadata": {
        "id": "S3Y_WxeBxzwR"
      },
      "outputs": [],
      "source": [
        "# Save its predictions from the training set into y_train_preds\n",
        "y_train_preds = rf1.predict(X_sm)\n"
      ]
    },
    {
      "cell_type": "code",
      "execution_count": null,
      "metadata": {
        "colab": {
          "base_uri": "https://localhost:8080/"
        },
        "id": "4MD3JbjKxzwS",
        "outputId": "7665f35c-5970-4320-96fe-73ad031d7ecf"
      },
      "outputs": [
        {
          "data": {
            "text/plain": [
              "0.9999739332169018"
            ]
          },
          "execution_count": 50,
          "metadata": {},
          "output_type": "execute_result"
        }
      ],
      "source": [
        "#Import the f1 and precision scores from sklearn\n",
        "from sklearn.metrics import f1_score, precision_score\n",
        "\n",
        "# Print f1 score and precision score on training set\n",
        "f1_score(y_sm, y_train_preds)"
      ]
    },
    {
      "cell_type": "code",
      "execution_count": null,
      "metadata": {
        "colab": {
          "base_uri": "https://localhost:8080/"
        },
        "id": "pXot_VwkxzwS",
        "outputId": "37585423-2875-402d-ff93-7cea280bf198"
      },
      "outputs": [
        {
          "data": {
            "text/plain": [
              "0.8081232492997199"
            ]
          },
          "execution_count": 51,
          "metadata": {},
          "output_type": "execute_result"
        }
      ],
      "source": [
        "# Save its predictions from the validation set into y_val_preds\n",
        "y_val_preds = rf1.predict(X_val)\n",
        "\n",
        "# Print f1 score and precision score on training set\n",
        "f1_score(y_val, y_val_preds)\n"
      ]
    },
    {
      "cell_type": "markdown",
      "metadata": {
        "id": "pPJ2dpQbv_wW"
      },
      "source": [
        "## Reduce Overfitting with n_estimators"
      ]
    },
    {
      "cell_type": "markdown",
      "metadata": {
        "id": "9Y4HHjLrob2k"
      },
      "source": [
        "Train a RandomForestClassifier model with n_estimators=50 "
      ]
    },
    {
      "cell_type": "code",
      "execution_count": null,
      "metadata": {
        "id": "7oTLKUUXu64h"
      },
      "outputs": [],
      "source": [
        "rf2 = RandomForestClassifier(random_state=8, n_estimators=50).fit(X_sm, y_sm)\n"
      ]
    },
    {
      "cell_type": "code",
      "execution_count": null,
      "metadata": {
        "id": "mZfKhVZeyZl_"
      },
      "outputs": [],
      "source": [
        "# Save its predictions from the training set into y_train_preds\n",
        "y_train_preds = rf2.predict(X_sm)\n"
      ]
    },
    {
      "cell_type": "code",
      "execution_count": null,
      "metadata": {
        "colab": {
          "base_uri": "https://localhost:8080/"
        },
        "id": "OxkApO9pyZmA",
        "outputId": "dde9281f-3677-4a7a-924c-fb23b66fc054"
      },
      "outputs": [
        {
          "data": {
            "text/plain": [
              "0.9999478677927224"
            ]
          },
          "execution_count": 54,
          "metadata": {},
          "output_type": "execute_result"
        }
      ],
      "source": [
        "# Print f1 score and precision score on training set\n",
        "f1_score(y_sm, y_train_preds)\n",
        "precision_score(y_sm, y_train_preds)"
      ]
    },
    {
      "cell_type": "code",
      "execution_count": null,
      "metadata": {
        "colab": {
          "base_uri": "https://localhost:8080/"
        },
        "id": "Ql5m3bNwyZmA",
        "outputId": "d045ae41-8e0e-4348-d8fa-74c72c828ff6"
      },
      "outputs": [
        {
          "data": {
            "text/plain": [
              "0.8205128205128205"
            ]
          },
          "execution_count": 55,
          "metadata": {},
          "output_type": "execute_result"
        }
      ],
      "source": [
        "# Save its predictions from the validation set into y_val_preds\n",
        "y_val_preds = rf2.predict(X_val)\n",
        "\n",
        "# Print f1 score and precision score on training set\n",
        "f1_score(y_val, y_val_preds)\n",
        "precision_score(y_val, y_val_preds)\n"
      ]
    },
    {
      "cell_type": "markdown",
      "metadata": {
        "id": "EyemzC2RzEry"
      },
      "source": [
        "Train a RandomForestClassifier model with n_estimators=70 "
      ]
    },
    {
      "cell_type": "code",
      "execution_count": null,
      "metadata": {
        "id": "XOm8J4_tzErz"
      },
      "outputs": [],
      "source": [
        "rf3 = RandomForestClassifier(random_state=8, n_estimators=70).fit(X_sm, y_sm)\n"
      ]
    },
    {
      "cell_type": "code",
      "execution_count": null,
      "metadata": {
        "id": "q59pyB6rzErz"
      },
      "outputs": [],
      "source": [
        "# Save its predictions from the training set into y_train_preds\n",
        "y_train_preds = rf3.predict(X_sm)\n"
      ]
    },
    {
      "cell_type": "code",
      "execution_count": null,
      "metadata": {
        "colab": {
          "base_uri": "https://localhost:8080/"
        },
        "id": "GwFC-fWszErz",
        "outputId": "17084a0c-c67e-42f9-9152-3729a48a138d"
      },
      "outputs": [
        {
          "data": {
            "text/plain": [
              "0.9999478677927224"
            ]
          },
          "execution_count": 58,
          "metadata": {},
          "output_type": "execute_result"
        }
      ],
      "source": [
        "#Import the f1 and precision scores from sklearn\n",
        "from sklearn.metrics import f1_score, precision_score\n",
        "\n",
        "# Print f1 score and precision score on training set\n",
        "f1_score(y_sm, y_train_preds)\n",
        "precision_score(y_sm, y_train_preds)"
      ]
    },
    {
      "cell_type": "code",
      "execution_count": null,
      "metadata": {
        "colab": {
          "base_uri": "https://localhost:8080/"
        },
        "id": "7oLU7w9YzErz",
        "outputId": "f96eb1cb-9c79-4f2e-a258-ad06adb29fe5"
      },
      "outputs": [
        {
          "data": {
            "text/plain": [
              "0.8198581560283688"
            ]
          },
          "execution_count": 59,
          "metadata": {},
          "output_type": "execute_result"
        }
      ],
      "source": [
        "# Save its predictions from the validation set into y_val_preds\n",
        "y_val_preds = rf3.predict(X_val)\n",
        "\n",
        "# Print f1 score and precision score on training set\n",
        "f1_score(y_val, y_val_preds)\n",
        "precision_score(y_val, y_val_preds)\n"
      ]
    },
    {
      "cell_type": "markdown",
      "metadata": {
        "id": "gmC0jKGWzzCv"
      },
      "source": [
        "Train a RandomForestClassifier model with n_estimators=90 "
      ]
    },
    {
      "cell_type": "code",
      "execution_count": null,
      "metadata": {
        "id": "AHc9WolYzzCv"
      },
      "outputs": [],
      "source": [
        "rf4 = RandomForestClassifier(random_state=8, n_estimators=90).fit(X_sm, y_sm)\n"
      ]
    },
    {
      "cell_type": "code",
      "execution_count": null,
      "metadata": {
        "id": "vV4WcT1lzzCw"
      },
      "outputs": [],
      "source": [
        "# Save its predictions from the training set into y_train_preds\n",
        "y_train_preds = rf4.predict(X_sm)\n"
      ]
    },
    {
      "cell_type": "code",
      "execution_count": null,
      "metadata": {
        "colab": {
          "base_uri": "https://localhost:8080/"
        },
        "id": "vrww1iovzzCw",
        "outputId": "b3d286e0-2388-4b11-9544-4cc646100a4e"
      },
      "outputs": [
        {
          "data": {
            "text/plain": [
              "0.9999478677927224"
            ]
          },
          "execution_count": 62,
          "metadata": {},
          "output_type": "execute_result"
        }
      ],
      "source": [
        "#Import the f1 and precision scores from sklearn\n",
        "from sklearn.metrics import f1_score, precision_score\n",
        "\n",
        "# Print f1 score and precision score on training set\n",
        "f1_score(y_sm, y_train_preds)\n",
        "precision_score(y_sm, y_train_preds)"
      ]
    },
    {
      "cell_type": "code",
      "execution_count": null,
      "metadata": {
        "colab": {
          "base_uri": "https://localhost:8080/"
        },
        "id": "eU2qgzfrzzCw",
        "outputId": "7749ca53-7628-4556-f039-030c9979fa06"
      },
      "outputs": [
        {
          "data": {
            "text/plain": [
              "0.8194842406876791"
            ]
          },
          "execution_count": 63,
          "metadata": {},
          "output_type": "execute_result"
        }
      ],
      "source": [
        "# Save its predictions from the validation set into y_val_preds\n",
        "y_val_preds = rf4.predict(X_val)\n",
        "\n",
        "# Print f1 score and precision score on training set\n",
        "f1_score(y_val, y_val_preds)\n",
        "precision_score(y_val, y_val_preds)\n"
      ]
    },
    {
      "cell_type": "markdown",
      "metadata": {
        "id": "1ILpF0Mq0Ohp"
      },
      "source": [
        "Train a RandomForestClassifier model with n_estimators=120 "
      ]
    },
    {
      "cell_type": "code",
      "execution_count": null,
      "metadata": {
        "id": "SSZJA7hZ0Ohq"
      },
      "outputs": [],
      "source": [
        "rf5 = RandomForestClassifier(random_state=8, n_estimators=120).fit(X_sm, y_sm)\n"
      ]
    },
    {
      "cell_type": "code",
      "execution_count": null,
      "metadata": {
        "id": "F6ZiMPa20Ohq"
      },
      "outputs": [],
      "source": [
        "# Save its predictions from the training set into y_train_preds\n",
        "y_train_preds = rf5.predict(X_sm)\n"
      ]
    },
    {
      "cell_type": "code",
      "execution_count": null,
      "metadata": {
        "colab": {
          "base_uri": "https://localhost:8080/"
        },
        "id": "yRuOZlpA0Ohq",
        "outputId": "e4cd1991-2295-453f-84dd-c05878d5c883"
      },
      "outputs": [
        {
          "data": {
            "text/plain": [
              "0.9999478677927224"
            ]
          },
          "execution_count": 66,
          "metadata": {},
          "output_type": "execute_result"
        }
      ],
      "source": [
        "# Print f1 score and precision score on training set\n",
        "f1_score(y_sm, y_train_preds)\n",
        "precision_score(y_sm, y_train_preds)"
      ]
    },
    {
      "cell_type": "code",
      "execution_count": null,
      "metadata": {
        "colab": {
          "base_uri": "https://localhost:8080/"
        },
        "id": "wqWXPCPp0Ohr",
        "outputId": "e19a9f4e-64f0-422f-bae3-ea4a3463e3bd"
      },
      "outputs": [
        {
          "data": {
            "text/plain": [
              "0.8153409090909091"
            ]
          },
          "execution_count": 67,
          "metadata": {},
          "output_type": "execute_result"
        }
      ],
      "source": [
        "# Save its predictions from the validation set into y_val_preds\n",
        "y_val_preds = rf5.predict(X_val)\n",
        "\n",
        "# Print f1 score and precision score on training set\n",
        "f1_score(y_val, y_val_preds)\n",
        "precision_score(y_val, y_val_preds)\n"
      ]
    },
    {
      "cell_type": "markdown",
      "metadata": {
        "id": "9XEL8qQUtmtx"
      },
      "source": [
        "Train a RandomForestClassifier model with n_estimators=200 "
      ]
    },
    {
      "cell_type": "code",
      "execution_count": null,
      "metadata": {
        "id": "ILGghVOT0qK9"
      },
      "outputs": [],
      "source": [
        "rf6 = RandomForestClassifier(random_state=8, n_estimators=200).fit(X_sm, y_sm)\n"
      ]
    },
    {
      "cell_type": "code",
      "execution_count": null,
      "metadata": {
        "id": "i5YJdKfy0qK-"
      },
      "outputs": [],
      "source": [
        "# Save its predictions from the training set into y_train_preds\n",
        "y_train_preds = rf6.predict(X_sm)\n"
      ]
    },
    {
      "cell_type": "code",
      "execution_count": null,
      "metadata": {
        "colab": {
          "base_uri": "https://localhost:8080/"
        },
        "id": "WtkD3qcZ0qK-",
        "outputId": "4802ef1c-99a0-44f9-f41f-2e4fc006d232"
      },
      "outputs": [
        {
          "data": {
            "text/plain": [
              "0.9999478677927224"
            ]
          },
          "execution_count": 70,
          "metadata": {},
          "output_type": "execute_result"
        }
      ],
      "source": [
        "# Print f1 score and precision score on training set\n",
        "f1_score(y_sm, y_train_preds)\n",
        "precision_score(y_sm, y_train_preds)"
      ]
    },
    {
      "cell_type": "code",
      "execution_count": null,
      "metadata": {
        "colab": {
          "base_uri": "https://localhost:8080/"
        },
        "id": "YYIqS2Ec0qK_",
        "outputId": "ce9b4e7d-cb6e-4ae8-8cad-b150bd7bb403"
      },
      "outputs": [
        {
          "data": {
            "text/plain": [
              "0.8156028368794326"
            ]
          },
          "execution_count": 71,
          "metadata": {},
          "output_type": "execute_result"
        }
      ],
      "source": [
        "# Save its predictions from the validation set into y_val_preds\n",
        "y_val_preds = rf6.predict(X_val)\n",
        "\n",
        "# Print f1 score and precision score on training set\n",
        "f1_score(y_val, y_val_preds)\n",
        "precision_score(y_val, y_val_preds)\n"
      ]
    },
    {
      "cell_type": "markdown",
      "metadata": {
        "id": "ltCbX5h23na0"
      },
      "source": [
        "## Reduce Overfitting with max_depth"
      ]
    },
    {
      "cell_type": "code",
      "execution_count": null,
      "metadata": {
        "colab": {
          "base_uri": "https://localhost:8080/"
        },
        "id": "9bxGTugawzak",
        "outputId": "924ea1bf-fc0e-440c-db49-dc79c6cd3c33"
      },
      "outputs": [
        {
          "data": {
            "text/plain": [
              "31.52"
            ]
          },
          "execution_count": 72,
          "metadata": {},
          "output_type": "execute_result"
        }
      ],
      "source": [
        "#Print the average \"**max_depth**\" for rf2\n",
        "np.mean([estimator.tree_.max_depth for estimator in rf2.estimators_])"
      ]
    },
    {
      "cell_type": "markdown",
      "metadata": {
        "id": "buSIj9bzwk1s"
      },
      "source": [
        "Train a RandomForestClassifier model with n_estimators=50, max_depth=15 "
      ]
    },
    {
      "cell_type": "code",
      "execution_count": null,
      "metadata": {
        "id": "KDgcVwmczjln"
      },
      "outputs": [],
      "source": [
        "rf3 = RandomForestClassifier(random_state=8, n_estimators=50, max_depth=15).fit(X_sm, y_sm)\n"
      ]
    },
    {
      "cell_type": "code",
      "execution_count": null,
      "metadata": {
        "id": "X-eJSU0h12ts"
      },
      "outputs": [],
      "source": [
        "# Save its predictions from the training set into y_train_preds\n",
        "y_train_preds = rf3.predict(X_sm)\n"
      ]
    },
    {
      "cell_type": "code",
      "execution_count": null,
      "metadata": {
        "colab": {
          "base_uri": "https://localhost:8080/"
        },
        "id": "WRvE6MB512tt",
        "outputId": "23e6b059-9301-4ceb-a36f-dc636f48fa84"
      },
      "outputs": [
        {
          "data": {
            "text/plain": [
              "0.9874400518470512"
            ]
          },
          "execution_count": 75,
          "metadata": {},
          "output_type": "execute_result"
        }
      ],
      "source": [
        "# Print f1 score and precision score on training set\n",
        "f1_score(y_sm, y_train_preds)\n",
        "precision_score(y_sm, y_train_preds)"
      ]
    },
    {
      "cell_type": "code",
      "execution_count": null,
      "metadata": {
        "colab": {
          "base_uri": "https://localhost:8080/"
        },
        "id": "FNzBWJ6O12tt",
        "outputId": "be0b2d62-39f2-4cf0-c78d-fb7b626491ea"
      },
      "outputs": [
        {
          "data": {
            "text/plain": [
              "0.595602294455067"
            ]
          },
          "execution_count": 76,
          "metadata": {},
          "output_type": "execute_result"
        }
      ],
      "source": [
        "# Save its predictions from the validation set into y_val_preds\n",
        "y_val_preds = rf3.predict(X_val)\n",
        "\n",
        "# Print f1 score and precision score on training set\n",
        "f1_score(y_val, y_val_preds)\n",
        "precision_score(y_val, y_val_preds)\n"
      ]
    },
    {
      "cell_type": "markdown",
      "metadata": {
        "id": "EnYyZ3Ap5UUr"
      },
      "source": [
        "Train a RandomForestClassifier model with n_estimators=50, max_depth=20"
      ]
    },
    {
      "cell_type": "code",
      "execution_count": null,
      "metadata": {
        "id": "Gi1SBB042fDl"
      },
      "outputs": [],
      "source": [
        "rf4 = RandomForestClassifier(random_state=8, n_estimators=50, max_depth=20).fit(X_sm, y_sm)\n"
      ]
    },
    {
      "cell_type": "code",
      "execution_count": null,
      "metadata": {
        "id": "Q7_WXu262fDm"
      },
      "outputs": [],
      "source": [
        "# Save its predictions from the training set into y_train_preds\n",
        "y_train_preds = rf4.predict(X_sm)\n"
      ]
    },
    {
      "cell_type": "code",
      "execution_count": null,
      "metadata": {
        "colab": {
          "base_uri": "https://localhost:8080/"
        },
        "id": "L4CI6pzT2fDm",
        "outputId": "2b2f2ee3-7e97-49c5-ded3-5e55de59a895"
      },
      "outputs": [
        {
          "data": {
            "text/plain": [
              "0.9975790706755173"
            ]
          },
          "execution_count": 79,
          "metadata": {},
          "output_type": "execute_result"
        }
      ],
      "source": [
        "# Print f1 score and precision score on training set\n",
        "f1_score(y_sm, y_train_preds)\n",
        "precision_score(y_sm, y_train_preds)"
      ]
    },
    {
      "cell_type": "code",
      "execution_count": null,
      "metadata": {
        "colab": {
          "base_uri": "https://localhost:8080/"
        },
        "id": "h5UvvLlP2fDm",
        "outputId": "b18ada15-7316-40e5-ef67-008e39e100d5"
      },
      "outputs": [
        {
          "data": {
            "text/plain": [
              "0.7367758186397985"
            ]
          },
          "execution_count": 80,
          "metadata": {},
          "output_type": "execute_result"
        }
      ],
      "source": [
        "# Save its predictions from the validation set into y_val_preds\n",
        "y_val_preds = rf4.predict(X_val)\n",
        "\n",
        "# Print f1 score and precision score on training set\n",
        "f1_score(y_val, y_val_preds)\n",
        "precision_score(y_val, y_val_preds)\n"
      ]
    },
    {
      "cell_type": "markdown",
      "metadata": {
        "id": "Qbx6zBna5XEC"
      },
      "source": [
        "Train a RandomForestClassifier model with n_estimators=50, max_depth=25 "
      ]
    },
    {
      "cell_type": "code",
      "execution_count": null,
      "metadata": {
        "id": "Ypq3rwk-25Lo"
      },
      "outputs": [],
      "source": [
        "rf5 = RandomForestClassifier(random_state=8, n_estimators=50, max_depth=25).fit(X_sm, y_sm)\n"
      ]
    },
    {
      "cell_type": "code",
      "execution_count": null,
      "metadata": {
        "id": "g0m7Q60C25Lp"
      },
      "outputs": [],
      "source": [
        "# Save its predictions from the training set into y_train_preds\n",
        "y_train_preds = rf5.predict(X_sm)\n"
      ]
    },
    {
      "cell_type": "code",
      "execution_count": null,
      "metadata": {
        "colab": {
          "base_uri": "https://localhost:8080/"
        },
        "id": "oxk7RTv225Lp",
        "outputId": "88e6df75-af48-480e-8131-cefe256e0898"
      },
      "outputs": [
        {
          "data": {
            "text/plain": [
              "0.9998305901976882"
            ]
          },
          "execution_count": 83,
          "metadata": {},
          "output_type": "execute_result"
        }
      ],
      "source": [
        "# Print f1 score and precision score on training set\n",
        "f1_score(y_sm, y_train_preds)\n",
        "precision_score(y_sm, y_train_preds)"
      ]
    },
    {
      "cell_type": "code",
      "execution_count": null,
      "metadata": {
        "colab": {
          "base_uri": "https://localhost:8080/"
        },
        "id": "TOksp0uy25Lp",
        "outputId": "ae754d39-a109-4014-b6bf-5e98b5a8bcb4"
      },
      "outputs": [
        {
          "data": {
            "text/plain": [
              "0.8059071729957806"
            ]
          },
          "execution_count": 84,
          "metadata": {},
          "output_type": "execute_result"
        }
      ],
      "source": [
        "# Save its predictions from the validation set into y_val_preds\n",
        "y_val_preds = rf5.predict(X_val)\n",
        "\n",
        "# Print f1 score and precision score on training set\n",
        "f1_score(y_val, y_val_preds)\n",
        "precision_score(y_val, y_val_preds)\n"
      ]
    },
    {
      "cell_type": "markdown",
      "metadata": {
        "id": "jOs8hYod3J4-"
      },
      "source": [
        "Train a RandomForestClassifier model with n_estimators=50, max_depth=28 "
      ]
    },
    {
      "cell_type": "code",
      "execution_count": null,
      "metadata": {
        "id": "tTsWFw_Z3J4_"
      },
      "outputs": [],
      "source": [
        "rf6 = RandomForestClassifier(random_state=8, n_estimators=50, max_depth=28).fit(X_sm, y_sm)\n"
      ]
    },
    {
      "cell_type": "code",
      "execution_count": null,
      "metadata": {
        "id": "GfSuysSZ3J4_"
      },
      "outputs": [],
      "source": [
        "# Save its predictions from the training set into y_train_preds\n",
        "y_train_preds = rf6.predict(X_sm)\n"
      ]
    },
    {
      "cell_type": "code",
      "execution_count": null,
      "metadata": {
        "colab": {
          "base_uri": "https://localhost:8080/"
        },
        "id": "qh_do3323J4_",
        "outputId": "91702596-bd24-4405-c852-80898526ace4"
      },
      "outputs": [
        {
          "data": {
            "text/plain": [
              "0.9999478677927224"
            ]
          },
          "execution_count": 87,
          "metadata": {},
          "output_type": "execute_result"
        }
      ],
      "source": [
        "# Print f1 score and precision score on training set\n",
        "f1_score(y_sm, y_train_preds)\n",
        "precision_score(y_sm, y_train_preds)"
      ]
    },
    {
      "cell_type": "code",
      "execution_count": null,
      "metadata": {
        "colab": {
          "base_uri": "https://localhost:8080/"
        },
        "id": "cGHYN2ZH3J4_",
        "outputId": "6e67c62e-11a3-40ca-cc82-ddfb0a5d5ce5"
      },
      "outputs": [
        {
          "data": {
            "text/plain": [
              "0.8098591549295775"
            ]
          },
          "execution_count": 88,
          "metadata": {},
          "output_type": "execute_result"
        }
      ],
      "source": [
        "# Save its predictions from the validation set into y_val_preds\n",
        "y_val_preds = rf6.predict(X_val)\n",
        "\n",
        "# Print f1 score and precision score on training set\n",
        "f1_score(y_val, y_val_preds)\n",
        "precision_score(y_val, y_val_preds)\n"
      ]
    },
    {
      "cell_type": "markdown",
      "metadata": {
        "id": "Fi1jAtNHUkQI"
      },
      "source": [
        "## Final Random Forest classifier with Hyperparameterization"
      ]
    },
    {
      "cell_type": "code",
      "execution_count": null,
      "metadata": {
        "id": "op8YllWGJx8Y"
      },
      "outputs": [],
      "source": [
        "rf7 = RandomForestClassifier(random_state=8, n_estimators=50, max_depth=28).fit(X_sm, y_sm)\n"
      ]
    },
    {
      "cell_type": "code",
      "execution_count": null,
      "metadata": {
        "id": "9O4RhoaaJx8Z"
      },
      "outputs": [],
      "source": [
        "# Save its predictions from the training set into y_train_preds\n",
        "y_train_preds = rf7.predict(X_sm)\n"
      ]
    },
    {
      "cell_type": "code",
      "execution_count": null,
      "metadata": {
        "colab": {
          "base_uri": "https://localhost:8080/"
        },
        "id": "Apu-6160Jx8Z",
        "outputId": "58466177-ec1f-4f65-92f0-8be5b330e272"
      },
      "outputs": [
        {
          "data": {
            "text/plain": [
              "0.9999739332169018"
            ]
          },
          "execution_count": 91,
          "metadata": {},
          "output_type": "execute_result"
        }
      ],
      "source": [
        "# Print f1 score and precision score on training set\n",
        "f1_score(y_sm, y_train_preds)\n"
      ]
    },
    {
      "cell_type": "code",
      "execution_count": null,
      "metadata": {
        "colab": {
          "base_uri": "https://localhost:8080/"
        },
        "id": "ilaCNl6_Jx8a",
        "outputId": "d18a02c5-b023-4cd0-8d4d-34e9ce7ba3ec"
      },
      "outputs": [
        {
          "data": {
            "text/plain": [
              "0.8047585724282714"
            ]
          },
          "execution_count": 92,
          "metadata": {},
          "output_type": "execute_result"
        }
      ],
      "source": [
        "# Save its predictions from the validation set into y_val_preds\n",
        "y_val_preds = rf7.predict(X_val)\n",
        "\n",
        "# Print f1 score and precision score on training set\n",
        "f1_score(y_val, y_val_preds)\n",
        "\n"
      ]
    },
    {
      "cell_type": "code",
      "execution_count": null,
      "metadata": {
        "colab": {
          "base_uri": "https://localhost:8080/"
        },
        "id": "J_I4-pfxL7TS",
        "outputId": "3a642b4b-5f0b-4e01-d6b0-70461084de4e"
      },
      "outputs": [
        {
          "data": {
            "text/plain": [
              "0.8119777158774374"
            ]
          },
          "execution_count": 99,
          "metadata": {},
          "output_type": "execute_result"
        }
      ],
      "source": [
        "# Save its predictions from the validation set into y_val_preds\n",
        "y_test_preds = rf7.predict(X_test)\n",
        "\n",
        "# Print f1 score and precision score on training set\n",
        "f1_score(y_test, y_test_preds)"
      ]
    },
    {
      "cell_type": "markdown",
      "metadata": {
        "id": "ZvrMlsNs1Uxo"
      },
      "source": [
        "##  Features Importance\n"
      ]
    },
    {
      "cell_type": "code",
      "execution_count": null,
      "metadata": {
        "colab": {
          "base_uri": "https://localhost:8080/"
        },
        "id": "fWkKR_N-1VHO",
        "outputId": "0f283f50-3012-429b-9434-4bd1d2d66fff"
      },
      "outputs": [
        {
          "data": {
            "text/plain": [
              "array([8.94602637e-02, 1.52420755e-01, 4.75328515e-02, 1.18035178e-01,\n",
              "       2.22208300e-02, 2.99598732e-02, 1.20492775e-01, 1.70979387e-01,\n",
              "       8.09546224e-02, 4.11067332e-02, 4.83387524e-02, 6.14683799e-03,\n",
              "       6.74712694e-03, 8.41574435e-05, 1.00671746e-02, 4.04641132e-03,\n",
              "       8.02679664e-03, 1.13038257e-02, 4.77196413e-03, 4.17828757e-03,\n",
              "       6.51599201e-03, 1.00265739e-02, 1.77735199e-03, 2.42287346e-03,\n",
              "       1.85731823e-03, 5.25286768e-04])"
            ]
          },
          "execution_count": 93,
          "metadata": {},
          "output_type": "execute_result"
        }
      ],
      "source": [
        "# Print the features importance of rf6\n",
        "rf6.feature_importances_"
      ]
    },
    {
      "cell_type": "code",
      "execution_count": null,
      "metadata": {
        "id": "Z-I5vxwU1vDG"
      },
      "outputs": [],
      "source": [
        "#Create a Dataframe with these values\n",
        "feat_imp_rf_df = pd.DataFrame(\n",
        "    {\n",
        "        'feature': X_sm.columns,\n",
        "     'feature_importance': rf6.feature_importances_\n",
        "     }\n",
        ")"
      ]
    },
    {
      "cell_type": "code",
      "execution_count": null,
      "metadata": {
        "colab": {
          "base_uri": "https://localhost:8080/",
          "height": 864
        },
        "id": "NtfIZXEwAK7I",
        "outputId": "2fb1a8bf-83df-489e-e16b-514195e1f5b7"
      },
      "outputs": [
        {
          "data": {
            "text/html": [
              "\n",
              "  <div id=\"df-4f98b6d0-281f-42c2-af18-c7746fcf0ff7\">\n",
              "    <div class=\"colab-df-container\">\n",
              "      <div>\n",
              "<style scoped>\n",
              "    .dataframe tbody tr th:only-of-type {\n",
              "        vertical-align: middle;\n",
              "    }\n",
              "\n",
              "    .dataframe tbody tr th {\n",
              "        vertical-align: top;\n",
              "    }\n",
              "\n",
              "    .dataframe thead th {\n",
              "        text-align: right;\n",
              "    }\n",
              "</style>\n",
              "<table border=\"1\" class=\"dataframe\">\n",
              "  <thead>\n",
              "    <tr style=\"text-align: right;\">\n",
              "      <th></th>\n",
              "      <th>feature</th>\n",
              "      <th>feature_importance</th>\n",
              "    </tr>\n",
              "  </thead>\n",
              "  <tbody>\n",
              "    <tr>\n",
              "      <th>0</th>\n",
              "      <td>age_of_vehicle_years</td>\n",
              "      <td>0.089460</td>\n",
              "    </tr>\n",
              "    <tr>\n",
              "      <th>1</th>\n",
              "      <td>sched_serv_warr</td>\n",
              "      <td>0.152421</td>\n",
              "    </tr>\n",
              "    <tr>\n",
              "      <th>2</th>\n",
              "      <td>non_sched_serv_warr</td>\n",
              "      <td>0.047533</td>\n",
              "    </tr>\n",
              "    <tr>\n",
              "      <th>3</th>\n",
              "      <td>sched_serv_paid</td>\n",
              "      <td>0.118035</td>\n",
              "    </tr>\n",
              "    <tr>\n",
              "      <th>4</th>\n",
              "      <td>non_sched_serv_paid</td>\n",
              "      <td>0.022221</td>\n",
              "    </tr>\n",
              "    <tr>\n",
              "      <th>5</th>\n",
              "      <td>total_paid_services</td>\n",
              "      <td>0.029960</td>\n",
              "    </tr>\n",
              "    <tr>\n",
              "      <th>6</th>\n",
              "      <td>total_services</td>\n",
              "      <td>0.120493</td>\n",
              "    </tr>\n",
              "    <tr>\n",
              "      <th>7</th>\n",
              "      <td>mth_since_last_serv</td>\n",
              "      <td>0.170979</td>\n",
              "    </tr>\n",
              "    <tr>\n",
              "      <th>8</th>\n",
              "      <td>annualised_mileage</td>\n",
              "      <td>0.080955</td>\n",
              "    </tr>\n",
              "    <tr>\n",
              "      <th>9</th>\n",
              "      <td>num_dealers_visited</td>\n",
              "      <td>0.041107</td>\n",
              "    </tr>\n",
              "    <tr>\n",
              "      <th>10</th>\n",
              "      <td>num_serv_dealer_purchased</td>\n",
              "      <td>0.048339</td>\n",
              "    </tr>\n",
              "    <tr>\n",
              "      <th>11</th>\n",
              "      <td>car_segment_LCV</td>\n",
              "      <td>0.006147</td>\n",
              "    </tr>\n",
              "    <tr>\n",
              "      <th>12</th>\n",
              "      <td>car_segment_Large/SUV</td>\n",
              "      <td>0.006747</td>\n",
              "    </tr>\n",
              "    <tr>\n",
              "      <th>13</th>\n",
              "      <td>car_segment_Other</td>\n",
              "      <td>0.000084</td>\n",
              "    </tr>\n",
              "    <tr>\n",
              "      <th>14</th>\n",
              "      <td>car_segment_Small/Medium</td>\n",
              "      <td>0.010067</td>\n",
              "    </tr>\n",
              "    <tr>\n",
              "      <th>15</th>\n",
              "      <td>car_model_Others</td>\n",
              "      <td>0.004046</td>\n",
              "    </tr>\n",
              "    <tr>\n",
              "      <th>16</th>\n",
              "      <td>car_model_model_1</td>\n",
              "      <td>0.008027</td>\n",
              "    </tr>\n",
              "    <tr>\n",
              "      <th>17</th>\n",
              "      <td>car_model_model_10</td>\n",
              "      <td>0.011304</td>\n",
              "    </tr>\n",
              "    <tr>\n",
              "      <th>18</th>\n",
              "      <td>car_model_model_2</td>\n",
              "      <td>0.004772</td>\n",
              "    </tr>\n",
              "    <tr>\n",
              "      <th>19</th>\n",
              "      <td>car_model_model_3</td>\n",
              "      <td>0.004178</td>\n",
              "    </tr>\n",
              "    <tr>\n",
              "      <th>20</th>\n",
              "      <td>car_model_model_4</td>\n",
              "      <td>0.006516</td>\n",
              "    </tr>\n",
              "    <tr>\n",
              "      <th>21</th>\n",
              "      <td>car_model_model_5</td>\n",
              "      <td>0.010027</td>\n",
              "    </tr>\n",
              "    <tr>\n",
              "      <th>22</th>\n",
              "      <td>car_model_model_6</td>\n",
              "      <td>0.001777</td>\n",
              "    </tr>\n",
              "    <tr>\n",
              "      <th>23</th>\n",
              "      <td>car_model_model_7</td>\n",
              "      <td>0.002423</td>\n",
              "    </tr>\n",
              "    <tr>\n",
              "      <th>24</th>\n",
              "      <td>car_model_model_8</td>\n",
              "      <td>0.001857</td>\n",
              "    </tr>\n",
              "    <tr>\n",
              "      <th>25</th>\n",
              "      <td>car_model_model_9</td>\n",
              "      <td>0.000525</td>\n",
              "    </tr>\n",
              "  </tbody>\n",
              "</table>\n",
              "</div>\n",
              "      <button class=\"colab-df-convert\" onclick=\"convertToInteractive('df-4f98b6d0-281f-42c2-af18-c7746fcf0ff7')\"\n",
              "              title=\"Convert this dataframe to an interactive table.\"\n",
              "              style=\"display:none;\">\n",
              "        \n",
              "  <svg xmlns=\"http://www.w3.org/2000/svg\" height=\"24px\"viewBox=\"0 0 24 24\"\n",
              "       width=\"24px\">\n",
              "    <path d=\"M0 0h24v24H0V0z\" fill=\"none\"/>\n",
              "    <path d=\"M18.56 5.44l.94 2.06.94-2.06 2.06-.94-2.06-.94-.94-2.06-.94 2.06-2.06.94zm-11 1L8.5 8.5l.94-2.06 2.06-.94-2.06-.94L8.5 2.5l-.94 2.06-2.06.94zm10 10l.94 2.06.94-2.06 2.06-.94-2.06-.94-.94-2.06-.94 2.06-2.06.94z\"/><path d=\"M17.41 7.96l-1.37-1.37c-.4-.4-.92-.59-1.43-.59-.52 0-1.04.2-1.43.59L10.3 9.45l-7.72 7.72c-.78.78-.78 2.05 0 2.83L4 21.41c.39.39.9.59 1.41.59.51 0 1.02-.2 1.41-.59l7.78-7.78 2.81-2.81c.8-.78.8-2.07 0-2.86zM5.41 20L4 18.59l7.72-7.72 1.47 1.35L5.41 20z\"/>\n",
              "  </svg>\n",
              "      </button>\n",
              "      \n",
              "  <style>\n",
              "    .colab-df-container {\n",
              "      display:flex;\n",
              "      flex-wrap:wrap;\n",
              "      gap: 12px;\n",
              "    }\n",
              "\n",
              "    .colab-df-convert {\n",
              "      background-color: #E8F0FE;\n",
              "      border: none;\n",
              "      border-radius: 50%;\n",
              "      cursor: pointer;\n",
              "      display: none;\n",
              "      fill: #1967D2;\n",
              "      height: 32px;\n",
              "      padding: 0 0 0 0;\n",
              "      width: 32px;\n",
              "    }\n",
              "\n",
              "    .colab-df-convert:hover {\n",
              "      background-color: #E2EBFA;\n",
              "      box-shadow: 0px 1px 2px rgba(60, 64, 67, 0.3), 0px 1px 3px 1px rgba(60, 64, 67, 0.15);\n",
              "      fill: #174EA6;\n",
              "    }\n",
              "\n",
              "    [theme=dark] .colab-df-convert {\n",
              "      background-color: #3B4455;\n",
              "      fill: #D2E3FC;\n",
              "    }\n",
              "\n",
              "    [theme=dark] .colab-df-convert:hover {\n",
              "      background-color: #434B5C;\n",
              "      box-shadow: 0px 1px 3px 1px rgba(0, 0, 0, 0.15);\n",
              "      filter: drop-shadow(0px 1px 2px rgba(0, 0, 0, 0.3));\n",
              "      fill: #FFFFFF;\n",
              "    }\n",
              "  </style>\n",
              "\n",
              "      <script>\n",
              "        const buttonEl =\n",
              "          document.querySelector('#df-4f98b6d0-281f-42c2-af18-c7746fcf0ff7 button.colab-df-convert');\n",
              "        buttonEl.style.display =\n",
              "          google.colab.kernel.accessAllowed ? 'block' : 'none';\n",
              "\n",
              "        async function convertToInteractive(key) {\n",
              "          const element = document.querySelector('#df-4f98b6d0-281f-42c2-af18-c7746fcf0ff7');\n",
              "          const dataTable =\n",
              "            await google.colab.kernel.invokeFunction('convertToInteractive',\n",
              "                                                     [key], {});\n",
              "          if (!dataTable) return;\n",
              "\n",
              "          const docLinkHtml = 'Like what you see? Visit the ' +\n",
              "            '<a target=\"_blank\" href=https://colab.research.google.com/notebooks/data_table.ipynb>data table notebook</a>'\n",
              "            + ' to learn more about interactive tables.';\n",
              "          element.innerHTML = '';\n",
              "          dataTable['output_type'] = 'display_data';\n",
              "          await google.colab.output.renderOutput(dataTable, element);\n",
              "          const docLink = document.createElement('div');\n",
              "          docLink.innerHTML = docLinkHtml;\n",
              "          element.appendChild(docLink);\n",
              "        }\n",
              "      </script>\n",
              "    </div>\n",
              "  </div>\n",
              "  "
            ],
            "text/plain": [
              "                      feature  feature_importance\n",
              "0        age_of_vehicle_years            0.089460\n",
              "1             sched_serv_warr            0.152421\n",
              "2         non_sched_serv_warr            0.047533\n",
              "3             sched_serv_paid            0.118035\n",
              "4         non_sched_serv_paid            0.022221\n",
              "5         total_paid_services            0.029960\n",
              "6              total_services            0.120493\n",
              "7         mth_since_last_serv            0.170979\n",
              "8          annualised_mileage            0.080955\n",
              "9         num_dealers_visited            0.041107\n",
              "10  num_serv_dealer_purchased            0.048339\n",
              "11            car_segment_LCV            0.006147\n",
              "12      car_segment_Large/SUV            0.006747\n",
              "13          car_segment_Other            0.000084\n",
              "14   car_segment_Small/Medium            0.010067\n",
              "15           car_model_Others            0.004046\n",
              "16          car_model_model_1            0.008027\n",
              "17         car_model_model_10            0.011304\n",
              "18          car_model_model_2            0.004772\n",
              "19          car_model_model_3            0.004178\n",
              "20          car_model_model_4            0.006516\n",
              "21          car_model_model_5            0.010027\n",
              "22          car_model_model_6            0.001777\n",
              "23          car_model_model_7            0.002423\n",
              "24          car_model_model_8            0.001857\n",
              "25          car_model_model_9            0.000525"
            ]
          },
          "execution_count": 95,
          "metadata": {},
          "output_type": "execute_result"
        }
      ],
      "source": [
        "feat_imp_rf_df"
      ]
    },
    {
      "cell_type": "code",
      "execution_count": null,
      "metadata": {
        "id": "gDhe2AHO1-oT"
      },
      "outputs": [],
      "source": [
        "# Sort the dataframe and reset its index\n",
        "feat_imp_rf_df = feat_imp_rf_df.sort_values('feature_importance', ascending=False).reset_index(drop=True)"
      ]
    },
    {
      "cell_type": "code",
      "execution_count": null,
      "metadata": {
        "colab": {
          "base_uri": "https://localhost:8080/",
          "height": 363
        },
        "id": "ln-KjTJe1wVa",
        "outputId": "ca729de2-d18e-4db7-f8c7-de93d881df26"
      },
      "outputs": [
        {
          "data": {
            "text/html": [
              "\n",
              "  <div id=\"df-b952fc8e-7743-477c-8ff6-43b047586c5b\">\n",
              "    <div class=\"colab-df-container\">\n",
              "      <div>\n",
              "<style scoped>\n",
              "    .dataframe tbody tr th:only-of-type {\n",
              "        vertical-align: middle;\n",
              "    }\n",
              "\n",
              "    .dataframe tbody tr th {\n",
              "        vertical-align: top;\n",
              "    }\n",
              "\n",
              "    .dataframe thead th {\n",
              "        text-align: right;\n",
              "    }\n",
              "</style>\n",
              "<table border=\"1\" class=\"dataframe\">\n",
              "  <thead>\n",
              "    <tr style=\"text-align: right;\">\n",
              "      <th></th>\n",
              "      <th>feature</th>\n",
              "      <th>feature_importance</th>\n",
              "    </tr>\n",
              "  </thead>\n",
              "  <tbody>\n",
              "    <tr>\n",
              "      <th>0</th>\n",
              "      <td>mth_since_last_serv</td>\n",
              "      <td>0.170979</td>\n",
              "    </tr>\n",
              "    <tr>\n",
              "      <th>1</th>\n",
              "      <td>sched_serv_warr</td>\n",
              "      <td>0.152421</td>\n",
              "    </tr>\n",
              "    <tr>\n",
              "      <th>2</th>\n",
              "      <td>total_services</td>\n",
              "      <td>0.120493</td>\n",
              "    </tr>\n",
              "    <tr>\n",
              "      <th>3</th>\n",
              "      <td>sched_serv_paid</td>\n",
              "      <td>0.118035</td>\n",
              "    </tr>\n",
              "    <tr>\n",
              "      <th>4</th>\n",
              "      <td>age_of_vehicle_years</td>\n",
              "      <td>0.089460</td>\n",
              "    </tr>\n",
              "    <tr>\n",
              "      <th>5</th>\n",
              "      <td>annualised_mileage</td>\n",
              "      <td>0.080955</td>\n",
              "    </tr>\n",
              "    <tr>\n",
              "      <th>6</th>\n",
              "      <td>num_serv_dealer_purchased</td>\n",
              "      <td>0.048339</td>\n",
              "    </tr>\n",
              "    <tr>\n",
              "      <th>7</th>\n",
              "      <td>non_sched_serv_warr</td>\n",
              "      <td>0.047533</td>\n",
              "    </tr>\n",
              "    <tr>\n",
              "      <th>8</th>\n",
              "      <td>num_dealers_visited</td>\n",
              "      <td>0.041107</td>\n",
              "    </tr>\n",
              "    <tr>\n",
              "      <th>9</th>\n",
              "      <td>total_paid_services</td>\n",
              "      <td>0.029960</td>\n",
              "    </tr>\n",
              "  </tbody>\n",
              "</table>\n",
              "</div>\n",
              "      <button class=\"colab-df-convert\" onclick=\"convertToInteractive('df-b952fc8e-7743-477c-8ff6-43b047586c5b')\"\n",
              "              title=\"Convert this dataframe to an interactive table.\"\n",
              "              style=\"display:none;\">\n",
              "        \n",
              "  <svg xmlns=\"http://www.w3.org/2000/svg\" height=\"24px\"viewBox=\"0 0 24 24\"\n",
              "       width=\"24px\">\n",
              "    <path d=\"M0 0h24v24H0V0z\" fill=\"none\"/>\n",
              "    <path d=\"M18.56 5.44l.94 2.06.94-2.06 2.06-.94-2.06-.94-.94-2.06-.94 2.06-2.06.94zm-11 1L8.5 8.5l.94-2.06 2.06-.94-2.06-.94L8.5 2.5l-.94 2.06-2.06.94zm10 10l.94 2.06.94-2.06 2.06-.94-2.06-.94-.94-2.06-.94 2.06-2.06.94z\"/><path d=\"M17.41 7.96l-1.37-1.37c-.4-.4-.92-.59-1.43-.59-.52 0-1.04.2-1.43.59L10.3 9.45l-7.72 7.72c-.78.78-.78 2.05 0 2.83L4 21.41c.39.39.9.59 1.41.59.51 0 1.02-.2 1.41-.59l7.78-7.78 2.81-2.81c.8-.78.8-2.07 0-2.86zM5.41 20L4 18.59l7.72-7.72 1.47 1.35L5.41 20z\"/>\n",
              "  </svg>\n",
              "      </button>\n",
              "      \n",
              "  <style>\n",
              "    .colab-df-container {\n",
              "      display:flex;\n",
              "      flex-wrap:wrap;\n",
              "      gap: 12px;\n",
              "    }\n",
              "\n",
              "    .colab-df-convert {\n",
              "      background-color: #E8F0FE;\n",
              "      border: none;\n",
              "      border-radius: 50%;\n",
              "      cursor: pointer;\n",
              "      display: none;\n",
              "      fill: #1967D2;\n",
              "      height: 32px;\n",
              "      padding: 0 0 0 0;\n",
              "      width: 32px;\n",
              "    }\n",
              "\n",
              "    .colab-df-convert:hover {\n",
              "      background-color: #E2EBFA;\n",
              "      box-shadow: 0px 1px 2px rgba(60, 64, 67, 0.3), 0px 1px 3px 1px rgba(60, 64, 67, 0.15);\n",
              "      fill: #174EA6;\n",
              "    }\n",
              "\n",
              "    [theme=dark] .colab-df-convert {\n",
              "      background-color: #3B4455;\n",
              "      fill: #D2E3FC;\n",
              "    }\n",
              "\n",
              "    [theme=dark] .colab-df-convert:hover {\n",
              "      background-color: #434B5C;\n",
              "      box-shadow: 0px 1px 3px 1px rgba(0, 0, 0, 0.15);\n",
              "      filter: drop-shadow(0px 1px 2px rgba(0, 0, 0, 0.3));\n",
              "      fill: #FFFFFF;\n",
              "    }\n",
              "  </style>\n",
              "\n",
              "      <script>\n",
              "        const buttonEl =\n",
              "          document.querySelector('#df-b952fc8e-7743-477c-8ff6-43b047586c5b button.colab-df-convert');\n",
              "        buttonEl.style.display =\n",
              "          google.colab.kernel.accessAllowed ? 'block' : 'none';\n",
              "\n",
              "        async function convertToInteractive(key) {\n",
              "          const element = document.querySelector('#df-b952fc8e-7743-477c-8ff6-43b047586c5b');\n",
              "          const dataTable =\n",
              "            await google.colab.kernel.invokeFunction('convertToInteractive',\n",
              "                                                     [key], {});\n",
              "          if (!dataTable) return;\n",
              "\n",
              "          const docLinkHtml = 'Like what you see? Visit the ' +\n",
              "            '<a target=\"_blank\" href=https://colab.research.google.com/notebooks/data_table.ipynb>data table notebook</a>'\n",
              "            + ' to learn more about interactive tables.';\n",
              "          element.innerHTML = '';\n",
              "          dataTable['output_type'] = 'display_data';\n",
              "          await google.colab.output.renderOutput(dataTable, element);\n",
              "          const docLink = document.createElement('div');\n",
              "          docLink.innerHTML = docLinkHtml;\n",
              "          element.appendChild(docLink);\n",
              "        }\n",
              "      </script>\n",
              "    </div>\n",
              "  </div>\n",
              "  "
            ],
            "text/plain": [
              "                     feature  feature_importance\n",
              "0        mth_since_last_serv            0.170979\n",
              "1            sched_serv_warr            0.152421\n",
              "2             total_services            0.120493\n",
              "3            sched_serv_paid            0.118035\n",
              "4       age_of_vehicle_years            0.089460\n",
              "5         annualised_mileage            0.080955\n",
              "6  num_serv_dealer_purchased            0.048339\n",
              "7        non_sched_serv_warr            0.047533\n",
              "8        num_dealers_visited            0.041107\n",
              "9        total_paid_services            0.029960"
            ]
          },
          "execution_count": 97,
          "metadata": {},
          "output_type": "execute_result"
        }
      ],
      "source": [
        "# Display the first 10 rows of this dataframe\n",
        "feat_imp_rf_df.head(10)"
      ]
    },
    {
      "cell_type": "code",
      "execution_count": null,
      "metadata": {
        "colab": {
          "base_uri": "https://localhost:8080/",
          "height": 583
        },
        "id": "ratUjb9g2YXk",
        "outputId": "6672af3a-e883-4bde-b223-0ddb53df3dfb"
      },
      "outputs": [
        {
          "data": {
            "text/html": [
              "\n",
              "<div id=\"altair-viz-01ca7f1fe3724f8d896aef3eb097d3d4\"></div>\n",
              "<script type=\"text/javascript\">\n",
              "  var VEGA_DEBUG = (typeof VEGA_DEBUG == \"undefined\") ? {} : VEGA_DEBUG;\n",
              "  (function(spec, embedOpt){\n",
              "    let outputDiv = document.currentScript.previousElementSibling;\n",
              "    if (outputDiv.id !== \"altair-viz-01ca7f1fe3724f8d896aef3eb097d3d4\") {\n",
              "      outputDiv = document.getElementById(\"altair-viz-01ca7f1fe3724f8d896aef3eb097d3d4\");\n",
              "    }\n",
              "    const paths = {\n",
              "      \"vega\": \"https://cdn.jsdelivr.net/npm//vega@5?noext\",\n",
              "      \"vega-lib\": \"https://cdn.jsdelivr.net/npm//vega-lib?noext\",\n",
              "      \"vega-lite\": \"https://cdn.jsdelivr.net/npm//vega-lite@4.17.0?noext\",\n",
              "      \"vega-embed\": \"https://cdn.jsdelivr.net/npm//vega-embed@6?noext\",\n",
              "    };\n",
              "\n",
              "    function maybeLoadScript(lib, version) {\n",
              "      var key = `${lib.replace(\"-\", \"\")}_version`;\n",
              "      return (VEGA_DEBUG[key] == version) ?\n",
              "        Promise.resolve(paths[lib]) :\n",
              "        new Promise(function(resolve, reject) {\n",
              "          var s = document.createElement('script');\n",
              "          document.getElementsByTagName(\"head\")[0].appendChild(s);\n",
              "          s.async = true;\n",
              "          s.onload = () => {\n",
              "            VEGA_DEBUG[key] = version;\n",
              "            return resolve(paths[lib]);\n",
              "          };\n",
              "          s.onerror = () => reject(`Error loading script: ${paths[lib]}`);\n",
              "          s.src = paths[lib];\n",
              "        });\n",
              "    }\n",
              "\n",
              "    function showError(err) {\n",
              "      outputDiv.innerHTML = `<div class=\"error\" style=\"color:red;\">${err}</div>`;\n",
              "      throw err;\n",
              "    }\n",
              "\n",
              "    function displayChart(vegaEmbed) {\n",
              "      vegaEmbed(outputDiv, spec, embedOpt)\n",
              "        .catch(err => showError(`Javascript Error: ${err.message}<br>This usually means there's a typo in your chart specification. See the javascript console for the full traceback.`));\n",
              "    }\n",
              "\n",
              "    if(typeof define === \"function\" && define.amd) {\n",
              "      requirejs.config({paths});\n",
              "      require([\"vega-embed\"], displayChart, err => showError(`Error loading script: ${err.message}`));\n",
              "    } else {\n",
              "      maybeLoadScript(\"vega\", \"5\")\n",
              "        .then(() => maybeLoadScript(\"vega-lite\", \"4.17.0\"))\n",
              "        .then(() => maybeLoadScript(\"vega-embed\", \"6\"))\n",
              "        .catch(showError)\n",
              "        .then(() => displayChart(vegaEmbed));\n",
              "    }\n",
              "  })({\"config\": {\"view\": {\"continuousWidth\": 400, \"continuousHeight\": 300}}, \"data\": {\"name\": \"data-27f939247c0a6d873851cd56beeb3f6d\"}, \"mark\": \"bar\", \"encoding\": {\"tooltip\": [{\"field\": \"feature\", \"type\": \"nominal\"}, {\"field\": \"feature_importance\", \"type\": \"quantitative\"}], \"x\": {\"field\": \"feature_importance\", \"type\": \"quantitative\"}, \"y\": {\"field\": \"feature\", \"sort\": \"-x\", \"type\": \"nominal\"}}, \"$schema\": \"https://vega.github.io/schema/vega-lite/v4.17.0.json\", \"datasets\": {\"data-27f939247c0a6d873851cd56beeb3f6d\": [{\"feature\": \"mth_since_last_serv\", \"feature_importance\": 0.17097938743299573}, {\"feature\": \"sched_serv_warr\", \"feature_importance\": 0.15242075511692718}, {\"feature\": \"total_services\", \"feature_importance\": 0.1204927747317262}, {\"feature\": \"sched_serv_paid\", \"feature_importance\": 0.11803517772923576}, {\"feature\": \"age_of_vehicle_years\", \"feature_importance\": 0.08946026371783675}, {\"feature\": \"annualised_mileage\", \"feature_importance\": 0.08095462236627377}, {\"feature\": \"num_serv_dealer_purchased\", \"feature_importance\": 0.04833875239423312}, {\"feature\": \"non_sched_serv_warr\", \"feature_importance\": 0.04753285149063228}, {\"feature\": \"num_dealers_visited\", \"feature_importance\": 0.041106733192822084}, {\"feature\": \"total_paid_services\", \"feature_importance\": 0.02995987315306304}, {\"feature\": \"non_sched_serv_paid\", \"feature_importance\": 0.02222082998503972}, {\"feature\": \"car_model_model_10\", \"feature_importance\": 0.011303825661502537}, {\"feature\": \"car_segment_Small/Medium\", \"feature_importance\": 0.010067174602954278}, {\"feature\": \"car_model_model_5\", \"feature_importance\": 0.010026573927276532}, {\"feature\": \"car_model_model_1\", \"feature_importance\": 0.008026796644077183}, {\"feature\": \"car_segment_Large/SUV\", \"feature_importance\": 0.006747126941166432}, {\"feature\": \"car_model_model_4\", \"feature_importance\": 0.006515992009002354}, {\"feature\": \"car_segment_LCV\", \"feature_importance\": 0.006146837985441256}, {\"feature\": \"car_model_model_2\", \"feature_importance\": 0.004771964131390056}, {\"feature\": \"car_model_model_3\", \"feature_importance\": 0.004178287568754819}, {\"feature\": \"car_model_Others\", \"feature_importance\": 0.0040464113218262225}, {\"feature\": \"car_model_model_7\", \"feature_importance\": 0.0024228734578668623}, {\"feature\": \"car_model_model_8\", \"feature_importance\": 0.0018573182329148625}, {\"feature\": \"car_model_model_6\", \"feature_importance\": 0.001777351993916312}, {\"feature\": \"car_model_model_9\", \"feature_importance\": 0.0005252867676025746}, {\"feature\": \"car_segment_Other\", \"feature_importance\": 8.415744352189487e-05}]}}, {\"mode\": \"vega-lite\"});\n",
              "</script>"
            ],
            "text/plain": [
              "alt.Chart(...)"
            ]
          },
          "execution_count": 98,
          "metadata": {},
          "output_type": "execute_result"
        }
      ],
      "source": [
        "#plot a graph\n",
        "import altair as alt\n",
        "\n",
        "alt.Chart(feat_imp_rf_df).mark_bar().encode(\n",
        "    x='feature_importance',\n",
        "    y=alt.Y(\"feature\", sort='-x'),\n",
        "    tooltip=['feature','feature_importance'])"
      ]
    }
  ],
  "metadata": {
    "colab": {
      "provenance": [],
      "toc_visible": true
    },
    "kernelspec": {
      "display_name": "Python 3",
      "name": "python3"
    },
    "language_info": {
      "name": "python"
    }
  },
  "nbformat": 4,
  "nbformat_minor": 0
}
